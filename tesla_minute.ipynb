{
 "cells": [
  {
   "cell_type": "code",
   "execution_count": null,
   "id": "nuclear-small",
   "metadata": {},
   "outputs": [],
   "source": [
    "'''\n",
    "Running this script will \n",
    "1) Update 'signal_minute_tb' table of 'energy_sites_db' database every minute using data pulled from API.\n",
    "2) Print out a list of sites with negative solar power. \n",
    "'''"
   ]
  },
  {
   "cell_type": "code",
   "execution_count": 200,
   "id": "marked-tragedy",
   "metadata": {},
   "outputs": [],
   "source": [
    "# import libraries\n",
    "import requests\n",
    "import pandas as pd\n",
    "import time\n",
    "import sys\n",
    "from datetime import datetime\n",
    "import psycopg2 as ps\n",
    "import schedule"
   ]
  },
  {
   "cell_type": "code",
   "execution_count": 7,
   "id": "chief-wealth",
   "metadata": {},
   "outputs": [],
   "source": [
    "# API Key\n",
    "API_KEY='RUFTVEVSIEVHRyAjIDMuLi4KCnlvdXIgc2ljaw'\n",
    "#database credentials\n",
    "host_name = 'database-1.c8e37wn95xfp.us-west-1.rds.amazonaws.com'\n",
    "dbname = 'energy_sites_db'\n",
    "port = '5432'\n",
    "username = 'postgres' \n",
    "password = '4DBS*eK)QhWwH86'\n",
    "conn = None"
   ]
  },
  {
   "cell_type": "code",
   "execution_count": 104,
   "id": "undefined-warren",
   "metadata": {},
   "outputs": [],
   "source": [
    "# get list of sites\n",
    "def get_sites():\n",
    "    while True:\n",
    "        try: \n",
    "            url='https://te-data-test.herokuapp.com/api/sites?token='\n",
    "            sites_response=requests.get(url+API_KEY).json()\n",
    "            sites=sites_response['sites']\n",
    "            break\n",
    "        except:\n",
    "            print('Cannot access data. Will try again in 5 mins.')\n",
    "            time.sleep(300)\n",
    "    return sites"
   ]
  },
  {
   "cell_type": "code",
   "execution_count": 126,
   "id": "continental-siemens",
   "metadata": {},
   "outputs": [],
   "source": [
    "# store signals in dataframe\n",
    "def get_signals(sites):\n",
    "    signals_url='https://te-data-test.herokuapp.com/api/signals'\n",
    "    df=pd.DataFrame(columns=['site','signal_time','SITE_SM_batteryInstPower','SITE_SM_siteInstPower','SITE_SM_solarInstPower'])\n",
    "    for s in sites:\n",
    "        while True:\n",
    "            try:\n",
    "                signals_response=requests.get(signals_url, params = {\"token\": API_KEY,\n",
    "                                                                    \"site\":s}).json()\n",
    "                try:\n",
    "                    SITE_SM_batteryInstPower=signals_response['signals']['SITE_SM_batteryInstPower']\n",
    "                except: \n",
    "                    SITE_SM_batteryInstPower=0\n",
    "                try:\n",
    "                    SITE_SM_siteInstPower=signals_response['signals']['SITE_SM_siteInstPower']\n",
    "                except: \n",
    "                    SITE_SM_siteInstPower=0\n",
    "                try:\n",
    "                    SITE_SM_solarInstPower=signals_response['signals']['SITE_SM_solarInstPower']\n",
    "                except: \n",
    "                    SITE_SM_solarInstPower=0\n",
    "                try:\n",
    "                    signal_time=signals_response['timestamp']\n",
    "                except: \n",
    "                    signal_time=0    \n",
    "\n",
    "                df=df.append({'site':s,'signal_time':signal_time,\n",
    "                              'SITE_SM_batteryInstPower': SITE_SM_batteryInstPower,\n",
    "                              'SITE_SM_siteInstPower':SITE_SM_siteInstPower,\n",
    "                              'SITE_SM_solarInstPower':SITE_SM_solarInstPower},ignore_index=True)\n",
    "                break\n",
    "            except:\n",
    "                print('Cannot access data. Will try again in 5 mins.')\n",
    "    return df"
   ]
  },
  {
   "cell_type": "code",
   "execution_count": 129,
   "id": "communist-plant",
   "metadata": {},
   "outputs": [],
   "source": [
    "def clean_df(df):\n",
    "    df['signal_time'] = pd.to_datetime(df['signal_time'])\n",
    "    df=df.fillna(0)\n",
    "    return df"
   ]
  },
  {
   "cell_type": "code",
   "execution_count": 136,
   "id": "white-action",
   "metadata": {},
   "outputs": [],
   "source": [
    "def connect_to_db(host_name, dbname, port, username, password):\n",
    "    try:\n",
    "        conn = ps.connect(host=host_name, database=dbname, user=username, password=password, port=port)\n",
    "\n",
    "    except ps.OperationalError as e:\n",
    "        raise e\n",
    "    else:\n",
    "        print('Connected!')\n",
    "        return conn"
   ]
  },
  {
   "cell_type": "code",
   "execution_count": null,
   "id": "superb-wallace",
   "metadata": {},
   "outputs": [],
   "source": [
    "# print sites with negative solarinstpower \n",
    "def detect_neg_in_solarInstPower(df):\n",
    "    list_of_neg_sites = list(df['site'][df['SITE_SM_solarInstPower']<0])\n",
    "    current_time=pd.to_datetime(df['signal_time'][0])\n",
    "    print(f'SITE_SM_solarInstPower of sites {list_of_neg_sites} are negative at {current_time}.')"
   ]
  },
  {
   "cell_type": "code",
   "execution_count": 180,
   "id": "domestic-moisture",
   "metadata": {},
   "outputs": [],
   "source": [
    "# create minute table \n",
    "def create_table(curr):\n",
    "    create_table_command = (\"\"\"CREATE TABLE IF NOT EXISTS signal_minute_tb (\n",
    "                    site VARCHAR(255) PRIMARY KEY,\n",
    "                    signal_time TIMESTAMP WITHOUT TIME ZONE NOT NULL,\n",
    "                    SITE_SM_batteryInstPower FLOAT NOT NULL,\n",
    "                    SITE_SM_siteInstPower  FLOAT NOT NULL,\n",
    "                    SITE_SM_solarInstPower FLOAT NOT NULL\n",
    "            )\"\"\")\n",
    "\n",
    "    curr.execute(create_table_command)\n",
    "    "
   ]
  },
  {
   "cell_type": "code",
   "execution_count": 183,
   "id": "loving-inspection",
   "metadata": {},
   "outputs": [],
   "source": [
    "def check_if_site_exists(curr, site): \n",
    "    query = (\"\"\"SELECT site FROM signal_minute_tb WHERE site = %s\"\"\")\n",
    "\n",
    "    curr.execute(query, (site,))\n",
    "    return curr.fetchone() is not None"
   ]
  },
  {
   "cell_type": "code",
   "execution_count": 184,
   "id": "generic-trash",
   "metadata": {},
   "outputs": [],
   "source": [
    "def update_row(curr, site, signal_time, SITE_SM_batteryInstPower, SITE_SM_siteInstPower, SITE_SM_solarInstPower):\n",
    "    query = (\"\"\"UPDATE signal_minute_tb\n",
    "            SET signal_time = %s,\n",
    "                SITE_SM_batteryInstPower = %s,\n",
    "                SITE_SM_siteInstPower = %s,\n",
    "                SITE_SM_solarInstPower = %s\n",
    "            WHERE site = %s;\"\"\")\n",
    "    vars_to_update = (signal_time, SITE_SM_batteryInstPower, SITE_SM_siteInstPower, SITE_SM_solarInstPower, site)\n",
    "    curr.execute(query, vars_to_update)"
   ]
  },
  {
   "cell_type": "code",
   "execution_count": 185,
   "id": "administrative-number",
   "metadata": {},
   "outputs": [],
   "source": [
    "def update_db(curr,df):\n",
    "    tmp_df = pd.DataFrame(columns=['site','signal_time','SITE_SM_batteryInstPower','SITE_SM_siteInstPower','SITE_SM_solarInstPower'])\n",
    "    for i, row in df.iterrows():\n",
    "        if check_if_site_exists(curr, row['site']): # If site already exists then we will update\n",
    "            update_row(curr,row['site'],row['signal_time'],row['SITE_SM_batteryInstPower'],row['SITE_SM_siteInstPower'],row['SITE_SM_solarInstPower'])\n",
    "        else: # The site doesn't exists we will add it to a temp df and append it using append_from_df_to_db\n",
    "            tmp_df = tmp_df.append(row)\n",
    "\n",
    "    return tmp_df # data on sites that don't already exist"
   ]
  },
  {
   "cell_type": "code",
   "execution_count": 188,
   "id": "spanish-pulse",
   "metadata": {},
   "outputs": [],
   "source": [
    "# write insert command\n",
    "def insert_into_table(curr, site, signal_time, SITE_SM_batteryInstPower, SITE_SM_siteInstPower, SITE_SM_solarInstPower):\n",
    "    insert_query = (\"\"\"INSERT INTO signal_minute_tb (site, signal_time, SITE_SM_batteryInstPower, SITE_SM_siteInstPower, SITE_SM_solarInstPower)\n",
    "    VALUES(%s,%s,%s,%s,%s);\"\"\")\n",
    "    row_to_insert = (site, signal_time, SITE_SM_batteryInstPower, SITE_SM_siteInstPower, SITE_SM_solarInstPower)\n",
    "    curr.execute(insert_query, row_to_insert)"
   ]
  },
  {
   "cell_type": "code",
   "execution_count": 189,
   "id": "satellite-surname",
   "metadata": {},
   "outputs": [],
   "source": [
    "# insert 1 at a time for performance\n",
    "def append_from_df_to_db(curr,df):\n",
    "    for i, row in df.iterrows():\n",
    "        insert_into_table(curr, row['site'],row['signal_time'],row['SITE_SM_batteryInstPower'],row['SITE_SM_siteInstPower'],row['SITE_SM_solarInstPower'])\n"
   ]
  },
  {
   "cell_type": "code",
   "execution_count": null,
   "id": "religious-pharmacology",
   "metadata": {},
   "outputs": [],
   "source": [
    "def main():\n",
    "    start_time=time.time()\n",
    "    sites=get_sites()\n",
    "    df=get_signals(sites)\n",
    "    df=clean_df(df)\n",
    "    detect_neg_in_solarInstPower(df)\n",
    "    conn = connect_to_db(host_name, dbname, port, username, password)\n",
    "    curr = conn.cursor()\n",
    "    create_table(curr)\n",
    "    conn.commit()\n",
    "    new_sites_df=update_db(curr,df)\n",
    "    conn.commit()\n",
    "    append_from_df_to_db(curr,new_sites_df)\n",
    "    conn.commit()\n",
    "    end_time=time.time()\n",
    "    duration=end_time-start_time\n",
    "    print(f'signal_minute_tb is updated at {datetime.now()}. The program took {duration}s.')\n",
    "    "
   ]
  },
  {
   "cell_type": "code",
   "execution_count": 208,
   "id": "given-microwave",
   "metadata": {},
   "outputs": [],
   "source": [
    "if __name__=='__main__':\n",
    "    schedule.every(1).minutes.do(main)\n",
    "    while True:\n",
    "        schedule.run_pending()\n",
    "        time.sleep(1)"
   ]
  },
  {
   "cell_type": "code",
   "execution_count": null,
   "id": "confirmed-palestinian",
   "metadata": {},
   "outputs": [],
   "source": []
  }
 ],
 "metadata": {
  "kernelspec": {
   "display_name": "Python 3",
   "language": "python",
   "name": "python3"
  },
  "language_info": {
   "codemirror_mode": {
    "name": "ipython",
    "version": 3
   },
   "file_extension": ".py",
   "mimetype": "text/x-python",
   "name": "python",
   "nbconvert_exporter": "python",
   "pygments_lexer": "ipython3",
   "version": "3.6.10"
  }
 },
 "nbformat": 4,
 "nbformat_minor": 5
}
