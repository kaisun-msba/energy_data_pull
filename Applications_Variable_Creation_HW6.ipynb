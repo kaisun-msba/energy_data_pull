{
 "cells": [
  {
   "cell_type": "code",
   "execution_count": 1,
   "id": "brave-gnome",
   "metadata": {},
   "outputs": [],
   "source": [
    "from timeit import default_timer as timer\n",
    "import pandas as pd\n",
    "import scipy.stats\n",
    "import numpy as np\n",
    "import datetime as dt\n",
    "import seaborn as sns\n",
    "import matplotlib.pyplot as plt\n",
    "import calendar\n",
    "%matplotlib inline\n",
    "import time"
   ]
  },
  {
   "cell_type": "code",
   "execution_count": 6,
   "id": "pointed-deficit",
   "metadata": {},
   "outputs": [],
   "source": [
    "df = pd.read_csv('applications data.csv')"
   ]
  },
  {
   "cell_type": "code",
   "execution_count": 3,
   "id": "indirect-thong",
   "metadata": {},
   "outputs": [
    {
     "data": {
      "text/html": [
       "<div>\n",
       "<style scoped>\n",
       "    .dataframe tbody tr th:only-of-type {\n",
       "        vertical-align: middle;\n",
       "    }\n",
       "\n",
       "    .dataframe tbody tr th {\n",
       "        vertical-align: top;\n",
       "    }\n",
       "\n",
       "    .dataframe thead th {\n",
       "        text-align: right;\n",
       "    }\n",
       "</style>\n",
       "<table border=\"1\" class=\"dataframe\">\n",
       "  <thead>\n",
       "    <tr style=\"text-align: right;\">\n",
       "      <th></th>\n",
       "      <th>record</th>\n",
       "      <th>date</th>\n",
       "      <th>ssn</th>\n",
       "      <th>firstname</th>\n",
       "      <th>lastname</th>\n",
       "      <th>address</th>\n",
       "      <th>zip5</th>\n",
       "      <th>dob</th>\n",
       "      <th>homephone</th>\n",
       "      <th>fraud_label</th>\n",
       "    </tr>\n",
       "  </thead>\n",
       "  <tbody>\n",
       "    <tr>\n",
       "      <th>0</th>\n",
       "      <td>1</td>\n",
       "      <td>20160101</td>\n",
       "      <td>379070012</td>\n",
       "      <td>XRRAMMTR</td>\n",
       "      <td>SMJETJMJ</td>\n",
       "      <td>6861 EUTST PL</td>\n",
       "      <td>2765</td>\n",
       "      <td>19070626</td>\n",
       "      <td>1797504115</td>\n",
       "      <td>0</td>\n",
       "    </tr>\n",
       "    <tr>\n",
       "      <th>1</th>\n",
       "      <td>2</td>\n",
       "      <td>20160101</td>\n",
       "      <td>387482503</td>\n",
       "      <td>MAMSTUJR</td>\n",
       "      <td>RTTEMRRR</td>\n",
       "      <td>7280 URASA PL</td>\n",
       "      <td>57169</td>\n",
       "      <td>19340615</td>\n",
       "      <td>4164239415</td>\n",
       "      <td>1</td>\n",
       "    </tr>\n",
       "    <tr>\n",
       "      <th>2</th>\n",
       "      <td>3</td>\n",
       "      <td>20160101</td>\n",
       "      <td>200332444</td>\n",
       "      <td>SZMMUJEZS</td>\n",
       "      <td>EUSEZRAE</td>\n",
       "      <td>5581 RSREX LN</td>\n",
       "      <td>56721</td>\n",
       "      <td>19070626</td>\n",
       "      <td>216537580</td>\n",
       "      <td>0</td>\n",
       "    </tr>\n",
       "    <tr>\n",
       "      <th>3</th>\n",
       "      <td>4</td>\n",
       "      <td>20160101</td>\n",
       "      <td>747451317</td>\n",
       "      <td>SJJZSXRSZ</td>\n",
       "      <td>ETJXTXXS</td>\n",
       "      <td>1387 UJZXJ RD</td>\n",
       "      <td>35286</td>\n",
       "      <td>19440430</td>\n",
       "      <td>132144161</td>\n",
       "      <td>0</td>\n",
       "    </tr>\n",
       "    <tr>\n",
       "      <th>4</th>\n",
       "      <td>5</td>\n",
       "      <td>20160101</td>\n",
       "      <td>24065868</td>\n",
       "      <td>SSSXUEJMS</td>\n",
       "      <td>SSUUJXUZ</td>\n",
       "      <td>279 EAASA WY</td>\n",
       "      <td>3173</td>\n",
       "      <td>19980315</td>\n",
       "      <td>6101082272</td>\n",
       "      <td>0</td>\n",
       "    </tr>\n",
       "  </tbody>\n",
       "</table>\n",
       "</div>"
      ],
      "text/plain": [
       "   record      date        ssn  firstname  lastname        address   zip5  \\\n",
       "0       1  20160101  379070012   XRRAMMTR  SMJETJMJ  6861 EUTST PL   2765   \n",
       "1       2  20160101  387482503   MAMSTUJR  RTTEMRRR  7280 URASA PL  57169   \n",
       "2       3  20160101  200332444  SZMMUJEZS  EUSEZRAE  5581 RSREX LN  56721   \n",
       "3       4  20160101  747451317  SJJZSXRSZ  ETJXTXXS  1387 UJZXJ RD  35286   \n",
       "4       5  20160101   24065868  SSSXUEJMS  SSUUJXUZ   279 EAASA WY   3173   \n",
       "\n",
       "        dob   homephone  fraud_label  \n",
       "0  19070626  1797504115            0  \n",
       "1  19340615  4164239415            1  \n",
       "2  19070626   216537580            0  \n",
       "3  19440430   132144161            0  \n",
       "4  19980315  6101082272            0  "
      ]
     },
     "execution_count": 3,
     "metadata": {},
     "output_type": "execute_result"
    }
   ],
   "source": [
    "df.head()"
   ]
  },
  {
   "cell_type": "code",
   "execution_count": 4,
   "id": "incoming-reflection",
   "metadata": {},
   "outputs": [],
   "source": [
    "# df['appyear'] = (df['date'] / 10000).astype('int')\n",
    "# df['appmonth'] = ((df['date'] - df['appyear'] * 10000) / 100).astype('int')\n",
    "# df['appday'] = df['date'] - df['appyear'] * 10000 - df['appmonth'] * 100\n",
    "# df['date'] = pd.to_datetime(df.appyear*10000+df.appmonth*100+df.appday,format='%Y%m%d')\n",
    "# df = df.drop(columns = ['appyear','appmonth','appday'])"
   ]
  },
  {
   "cell_type": "code",
   "execution_count": 7,
   "id": "sunset-airfare",
   "metadata": {},
   "outputs": [],
   "source": [
    "# fix date\n",
    "df['date']=pd.to_datetime(df.date.astype(str).apply(lambda x: x[:4]+'-'+x[4:6]+'-'+x[6:]))"
   ]
  },
  {
   "cell_type": "code",
   "execution_count": 8,
   "id": "graphic-heavy",
   "metadata": {},
   "outputs": [],
   "source": [
    "# fix frivolous values in zip5\n",
    "df['zip5']=df['zip5'].apply(lambda x: '{0:0>5}'.format(x))"
   ]
  },
  {
   "cell_type": "code",
   "execution_count": 9,
   "id": "exceptional-height",
   "metadata": {},
   "outputs": [],
   "source": [
    "# fix frivolous values in ssn\n",
    "df.loc[df['ssn']==999999999,'ssn']=-df[df['ssn']==999999999]['record']\n",
    "df['ssn']=df['ssn'].apply(lambda x: '{0:0>9}'.format(x))"
   ]
  },
  {
   "cell_type": "code",
   "execution_count": 10,
   "id": "twelve-criticism",
   "metadata": {},
   "outputs": [],
   "source": [
    "# fix frivolous values in address\n",
    "df.loc[df['address']=='123 MAIN ST','address']=df.loc[df['address']=='123 MAIN ST','record'].apply(lambda x: str(x)+' RECORD')"
   ]
  },
  {
   "cell_type": "code",
   "execution_count": 11,
   "id": "parallel-scheme",
   "metadata": {},
   "outputs": [],
   "source": [
    "# dob\n",
    "df.loc[df['dob']==19070626,'dob']=-df[df['dob']==19070626]['record']\n",
    "df['dob']=df['dob'].apply(lambda x: '{0:0>8}'.format(x))"
   ]
  },
  {
   "cell_type": "code",
   "execution_count": 12,
   "id": "fleet-boards",
   "metadata": {},
   "outputs": [],
   "source": [
    "# homephone\n",
    "df.loc[df['homephone']==9999999999,'homephone']=-df[df['homephone']==9999999999]['record']\n",
    "df['homephone']=df['homephone'].apply(lambda x: '{0:0>9}'.format(x))"
   ]
  },
  {
   "cell_type": "code",
   "execution_count": 14,
   "id": "relevant-tokyo",
   "metadata": {},
   "outputs": [
    {
     "name": "stdout",
     "output_type": "stream",
     "text": [
      "<class 'pandas.core.frame.DataFrame'>\n",
      "RangeIndex: 1000000 entries, 0 to 999999\n",
      "Data columns (total 10 columns):\n",
      " #   Column       Non-Null Count    Dtype         \n",
      "---  ------       --------------    -----         \n",
      " 0   record       1000000 non-null  int64         \n",
      " 1   date         1000000 non-null  datetime64[ns]\n",
      " 2   ssn          1000000 non-null  object        \n",
      " 3   firstname    1000000 non-null  object        \n",
      " 4   lastname     1000000 non-null  object        \n",
      " 5   address      1000000 non-null  object        \n",
      " 6   zip5         1000000 non-null  object        \n",
      " 7   dob          1000000 non-null  object        \n",
      " 8   homephone    1000000 non-null  object        \n",
      " 9   fraud_label  1000000 non-null  int64         \n",
      "dtypes: datetime64[ns](1), int64(2), object(7)\n",
      "memory usage: 76.3+ MB\n"
     ]
    }
   ],
   "source": [
    "# check data types for the fields\n",
    "df.info()"
   ]
  },
  {
   "cell_type": "markdown",
   "id": "apart-appointment",
   "metadata": {},
   "source": [
    "#### Make day of week target encoding"
   ]
  },
  {
   "cell_type": "code",
   "execution_count": 13,
   "id": "balanced-momentum",
   "metadata": {},
   "outputs": [],
   "source": [
    "df['dow']=df.date.apply(lambda x: calendar.day_name[x.weekday()])"
   ]
  },
  {
   "cell_type": "code",
   "execution_count": 14,
   "id": "first-apollo",
   "metadata": {},
   "outputs": [],
   "source": [
    "train_test=df[df['date']<'2016-11-01']"
   ]
  },
  {
   "cell_type": "code",
   "execution_count": 15,
   "id": "mechanical-graph",
   "metadata": {},
   "outputs": [],
   "source": [
    "# statistical smoothing\n",
    "c,nmid=4,20\n",
    "y_avg=train_test['fraud_label'].mean()\n",
    "y_dow=train_test.groupby('dow')['fraud_label'].mean()\n",
    "num=train_test.groupby('dow').size()\n",
    "y_dow_smooth=y_avg+(y_dow-y_avg)/(1+np.exp(-(num-nmid)/c))\n",
    "df['dow_risk']=df['dow'].map(y_dow_smooth)"
   ]
  },
  {
   "cell_type": "code",
   "execution_count": 16,
   "id": "former-cambridge",
   "metadata": {},
   "outputs": [],
   "source": [
    "y_dow=y_dow.reset_index()\n",
    "cats=['Monday','Tuesday','Wednesday','Thursday','Friday','Saturday','Sunday']\n",
    "y_dow['dow']=pd.Categorical(y_dow['dow'],categories=cats,ordered=True)\n",
    "y_dow=y_dow.sort_values('dow')\n",
    "y_dow=y_dow.set_index('dow')"
   ]
  },
  {
   "cell_type": "code",
   "execution_count": 17,
   "id": "physical-blood",
   "metadata": {},
   "outputs": [],
   "source": [
    "train_test=0"
   ]
  },
  {
   "cell_type": "code",
   "execution_count": 25,
   "id": "advanced-luxury",
   "metadata": {},
   "outputs": [
    {
     "data": {
      "image/png": "[encoded data removed]",
      "text/plain": [
       "<Figure size 1440x1080 with 1 Axes>"
      ]
     },
     "metadata": {},
     "output_type": "display_data"
    }
   ],
   "source": [
    "plt.style.use('ggplot')\n",
    "fig,ax=plt.subplots(figsize=(20,15))\n",
    "plt.bar(data=y_dow,x=y_dow.index,height='fraud_label',color='darkblue')\n",
    "ax.set_ylim(bottom=0.013)\n",
    "ax.axhline(y=y_avg,ls='--',lw=2)\n",
    "for i,v in enumerate(y_dow.index):\n",
    "    ax.text(v,y_dow.loc[i,'fraud_label']+0.0001,round(y_dow.loc[i,'fraud_label'],5),horizontalalignment='center',fontsize=15)\n",
    "plt.show()"
   ]
  },
  {
   "cell_type": "markdown",
   "id": "dependent-rachel",
   "metadata": {},
   "source": [
    "### Make some new entites for variables"
   ]
  },
  {
   "cell_type": "code",
   "execution_count": 18,
   "id": "enormous-dialogue",
   "metadata": {},
   "outputs": [],
   "source": [
    "df['name']=df['firstname']+df['lastname']\n",
    "df['fulladdress']=df['address']+df['zip5']\n",
    "df['name_dob']=df['name']+df['dob']\n",
    "df['name_fulladdress']=df['name']+df['fulladdress']\n",
    "df['name_homephone']=df['name']+df['homephone']\n",
    "df['fulladdress_dob']=df['fulladdress']+df['dob']\n",
    "df['fulladdress_homephone']=df['fulladdress']+df['homephone']\n",
    "df['dob_homephone']=df['dob']+df['homephone']\n",
    "df['homephone_name_dob']=df['homephone']+df['name_dob']"
   ]
  },
  {
   "cell_type": "code",
   "execution_count": 27,
   "id": "smaller-welcome",
   "metadata": {},
   "outputs": [
    {
     "data": {
      "text/plain": [
       "Index(['record', 'date', 'ssn', 'firstname', 'lastname', 'address', 'zip5',\n",
       "       'dob', 'homephone', 'fraud_label', 'dow', 'dow_risk', 'name',\n",
       "       'fulladdress', 'name_dob', 'name_fulladdress', 'name_homephone',\n",
       "       'fulladdress_dob', 'fulladdress_homephone', 'dob_homephone',\n",
       "       'homephone_name_dob'],\n",
       "      dtype='object')"
      ]
     },
     "execution_count": 27,
     "metadata": {},
     "output_type": "execute_result"
    }
   ],
   "source": [
    "df.columns"
   ]
  },
  {
   "cell_type": "code",
   "execution_count": 19,
   "id": "southwest-princess",
   "metadata": {},
   "outputs": [],
   "source": [
    "# connecting with ssn\n",
    "for field in list(df.iloc[:,np.r_[3:9,12:15]].columns):\n",
    "    df['ssn_'+field]=df['ssn']+df[field]"
   ]
  },
  {
   "cell_type": "code",
   "execution_count": 20,
   "id": "ideal-envelope",
   "metadata": {},
   "outputs": [],
   "source": [
    "attributes=list(df.iloc[:,np.r_[2,5,7,8,12:30]].columns)"
   ]
  },
  {
   "cell_type": "code",
   "execution_count": 14,
   "id": "geological-attribute",
   "metadata": {},
   "outputs": [
    {
     "data": {
      "text/plain": [
       "22"
      ]
     },
     "execution_count": 14,
     "metadata": {},
     "output_type": "execute_result"
    }
   ],
   "source": [
    "len(attributes)"
   ]
  },
  {
   "cell_type": "code",
   "execution_count": 17,
   "id": "smoking-saying",
   "metadata": {},
   "outputs": [
    {
     "data": {
      "text/plain": [
       "(1000000, 30)"
      ]
     },
     "execution_count": 17,
     "metadata": {},
     "output_type": "execute_result"
    }
   ],
   "source": [
    "df1=df.copy()\n",
    "vars=df.copy()\n",
    "df1['check_date']=df1['date']\n",
    "df1['check_record']=df1['record']\n",
    "vars.shape"
   ]
  },
  {
   "cell_type": "code",
   "execution_count": 23,
   "id": "ruled-lawrence",
   "metadata": {},
   "outputs": [],
   "source": [
    "# save df1 to csv\n",
    "df1.to_csv('df1.csv')"
   ]
  },
  {
   "cell_type": "markdown",
   "id": "attractive-prize",
   "metadata": {},
   "source": [
    "#### Velocity/counts and days since"
   ]
  },
  {
   "cell_type": "code",
   "execution_count": 18,
   "id": "limiting-background",
   "metadata": {},
   "outputs": [
    {
     "name": "stdout",
     "output_type": "stream",
     "text": [
      "\n",
      "ssn_day_since ---> Done\n",
      "ssn_count_0 ---> Done\n",
      "ssn_count_1 ---> Done\n",
      "ssn_count_3 ---> Done\n",
      "ssn_count_7 ---> Done\n",
      "ssn_count_14 ---> Done\n",
      "ssn_count_30 ---> Done\n",
      "Run time for entity ssn ---- 7.58205246925354s\n",
      "\n",
      "address_day_since ---> Done\n",
      "address_count_0 ---> Done\n",
      "address_count_1 ---> Done\n",
      "address_count_3 ---> Done\n",
      "address_count_7 ---> Done\n",
      "address_count_14 ---> Done\n",
      "address_count_30 ---> Done\n",
      "Run time for entity address ---- 7.678160905838013s\n",
      "\n",
      "dob_day_since ---> Done\n",
      "dob_count_0 ---> Done\n",
      "dob_count_1 ---> Done\n",
      "dob_count_3 ---> Done\n",
      "dob_count_7 ---> Done\n",
      "dob_count_14 ---> Done\n",
      "dob_count_30 ---> Done\n",
      "Run time for entity dob ---- 42.08792042732239s\n",
      "\n",
      "homephone_day_since ---> Done\n",
      "homephone_count_0 ---> Done\n",
      "homephone_count_1 ---> Done\n",
      "homephone_count_3 ---> Done\n",
      "homephone_count_7 ---> Done\n",
      "homephone_count_14 ---> Done\n",
      "homephone_count_30 ---> Done\n",
      "Run time for entity homephone ---- 34.79369878768921s\n",
      "\n",
      "name_day_since ---> Done\n",
      "name_count_0 ---> Done\n",
      "name_count_1 ---> Done\n",
      "name_count_3 ---> Done\n",
      "name_count_7 ---> Done\n",
      "name_count_14 ---> Done\n",
      "name_count_30 ---> Done\n",
      "Run time for entity name ---- 10.013473510742188s\n",
      "\n",
      "fulladdress_day_since ---> Done\n",
      "fulladdress_count_0 ---> Done\n",
      "fulladdress_count_1 ---> Done\n",
      "fulladdress_count_3 ---> Done\n",
      "fulladdress_count_7 ---> Done\n",
      "fulladdress_count_14 ---> Done\n",
      "fulladdress_count_30 ---> Done\n",
      "Run time for entity fulladdress ---- 7.512773036956787s\n",
      "\n",
      "name_dob_day_since ---> Done\n",
      "name_dob_count_0 ---> Done\n",
      "name_dob_count_1 ---> Done\n",
      "name_dob_count_3 ---> Done\n",
      "name_dob_count_7 ---> Done\n",
      "name_dob_count_14 ---> Done\n",
      "name_dob_count_30 ---> Done\n",
      "Run time for entity name_dob ---- 8.003645658493042s\n",
      "\n",
      "name_fulladdress_day_since ---> Done\n",
      "name_fulladdress_count_0 ---> Done\n",
      "name_fulladdress_count_1 ---> Done\n",
      "name_fulladdress_count_3 ---> Done\n",
      "name_fulladdress_count_7 ---> Done\n",
      "name_fulladdress_count_14 ---> Done\n",
      "name_fulladdress_count_30 ---> Done\n",
      "Run time for entity name_fulladdress ---- 8.278618335723877s\n",
      "\n",
      "name_homephone_day_since ---> Done\n",
      "name_homephone_count_0 ---> Done\n",
      "name_homephone_count_1 ---> Done\n",
      "name_homephone_count_3 ---> Done\n",
      "name_homephone_count_7 ---> Done\n",
      "name_homephone_count_14 ---> Done\n",
      "name_homephone_count_30 ---> Done\n",
      "Run time for entity name_homephone ---- 7.69950532913208s\n",
      "\n",
      "fulladdress_dob_day_since ---> Done\n",
      "fulladdress_dob_count_0 ---> Done\n",
      "fulladdress_dob_count_1 ---> Done\n",
      "fulladdress_dob_count_3 ---> Done\n",
      "fulladdress_dob_count_7 ---> Done\n",
      "fulladdress_dob_count_14 ---> Done\n",
      "fulladdress_dob_count_30 ---> Done\n",
      "Run time for entity fulladdress_dob ---- 7.749247312545776s\n",
      "\n",
      "fulladdress_homephone_day_since ---> Done\n",
      "fulladdress_homephone_count_0 ---> Done\n",
      "fulladdress_homephone_count_1 ---> Done\n",
      "fulladdress_homephone_count_3 ---> Done\n",
      "fulladdress_homephone_count_7 ---> Done\n",
      "fulladdress_homephone_count_14 ---> Done\n",
      "fulladdress_homephone_count_30 ---> Done\n",
      "Run time for entity fulladdress_homephone ---- 7.870526552200317s\n",
      "\n",
      "dob_homephone_day_since ---> Done\n",
      "dob_homephone_count_0 ---> Done\n",
      "dob_homephone_count_1 ---> Done\n",
      "dob_homephone_count_3 ---> Done\n",
      "dob_homephone_count_7 ---> Done\n",
      "dob_homephone_count_14 ---> Done\n",
      "dob_homephone_count_30 ---> Done\n",
      "Run time for entity dob_homephone ---- 7.313695430755615s\n",
      "\n",
      "homephone_name_dob_day_since ---> Done\n",
      "homephone_name_dob_count_0 ---> Done\n",
      "homephone_name_dob_count_1 ---> Done\n",
      "homephone_name_dob_count_3 ---> Done\n",
      "homephone_name_dob_count_7 ---> Done\n",
      "homephone_name_dob_count_14 ---> Done\n",
      "homephone_name_dob_count_30 ---> Done\n",
      "Run time for entity homephone_name_dob ---- 7.844596862792969s\n",
      "\n",
      "ssn_firstname_day_since ---> Done\n",
      "ssn_firstname_count_0 ---> Done\n",
      "ssn_firstname_count_1 ---> Done\n",
      "ssn_firstname_count_3 ---> Done\n",
      "ssn_firstname_count_7 ---> Done\n",
      "ssn_firstname_count_14 ---> Done\n",
      "ssn_firstname_count_30 ---> Done\n",
      "Run time for entity ssn_firstname ---- 9.086894273757935s\n",
      "\n",
      "ssn_lastname_day_since ---> Done\n",
      "ssn_lastname_count_0 ---> Done\n",
      "ssn_lastname_count_1 ---> Done\n",
      "ssn_lastname_count_3 ---> Done\n",
      "ssn_lastname_count_7 ---> Done\n",
      "ssn_lastname_count_14 ---> Done\n",
      "ssn_lastname_count_30 ---> Done\n",
      "Run time for entity ssn_lastname ---- 7.746582269668579s\n",
      "\n",
      "ssn_address_day_since ---> Done\n",
      "ssn_address_count_0 ---> Done\n",
      "ssn_address_count_1 ---> Done\n",
      "ssn_address_count_3 ---> Done\n",
      "ssn_address_count_7 ---> Done\n",
      "ssn_address_count_14 ---> Done\n",
      "ssn_address_count_30 ---> Done\n",
      "Run time for entity ssn_address ---- 7.879936695098877s\n",
      "\n",
      "ssn_zip5_day_since ---> Done\n",
      "ssn_zip5_count_0 ---> Done\n",
      "ssn_zip5_count_1 ---> Done\n",
      "ssn_zip5_count_3 ---> Done\n",
      "ssn_zip5_count_7 ---> Done\n",
      "ssn_zip5_count_14 ---> Done\n",
      "ssn_zip5_count_30 ---> Done\n",
      "Run time for entity ssn_zip5 ---- 7.383184909820557s\n",
      "\n",
      "ssn_dob_day_since ---> Done\n",
      "ssn_dob_count_0 ---> Done\n",
      "ssn_dob_count_1 ---> Done\n",
      "ssn_dob_count_3 ---> Done\n",
      "ssn_dob_count_7 ---> Done\n",
      "ssn_dob_count_14 ---> Done\n",
      "ssn_dob_count_30 ---> Done\n",
      "Run time for entity ssn_dob ---- 7.423358917236328s\n",
      "\n",
      "ssn_homephone_day_since ---> Done\n",
      "ssn_homephone_count_0 ---> Done\n",
      "ssn_homephone_count_1 ---> Done\n",
      "ssn_homephone_count_3 ---> Done\n",
      "ssn_homephone_count_7 ---> Done\n",
      "ssn_homephone_count_14 ---> Done\n",
      "ssn_homephone_count_30 ---> Done\n",
      "Run time for entity ssn_homephone ---- 7.337097406387329s\n",
      "\n",
      "ssn_name_day_since ---> Done\n",
      "ssn_name_count_0 ---> Done\n",
      "ssn_name_count_1 ---> Done\n",
      "ssn_name_count_3 ---> Done\n",
      "ssn_name_count_7 ---> Done\n",
      "ssn_name_count_14 ---> Done\n",
      "ssn_name_count_30 ---> Done\n",
      "Run time for entity ssn_name ---- 7.695691347122192s\n",
      "\n",
      "ssn_fulladdress_day_since ---> Done\n",
      "ssn_fulladdress_count_0 ---> Done\n",
      "ssn_fulladdress_count_1 ---> Done\n",
      "ssn_fulladdress_count_3 ---> Done\n",
      "ssn_fulladdress_count_7 ---> Done\n",
      "ssn_fulladdress_count_14 ---> Done\n",
      "ssn_fulladdress_count_30 ---> Done\n",
      "Run time for entity ssn_fulladdress ---- 7.657248258590698s\n",
      "\n",
      "ssn_name_dob_day_since ---> Done\n",
      "ssn_name_dob_count_0 ---> Done\n",
      "ssn_name_dob_count_1 ---> Done\n",
      "ssn_name_dob_count_3 ---> Done\n",
      "ssn_name_dob_count_7 ---> Done\n",
      "ssn_name_dob_count_14 ---> Done\n",
      "ssn_name_dob_count_30 ---> Done\n",
      "Run time for entity ssn_name_dob ---- 7.848700523376465s\n",
      "Total run time: 3.9084213534990946 min\n"
     ]
    }
   ],
   "source": [
    "begin=time.time()\n",
    "for entity in attributes:\n",
    "    st=time.time()\n",
    "    df_1=df1[['record','date',entity]]\n",
    "    df_r=df1[['check_record','check_date',entity]]\n",
    "    temp=pd.merge(df_1,df_r,left_on=entity,right_on=entity)\n",
    "    day_since_df=temp[temp['record']>temp['check_record']][['record','date','check_date']].groupby('record')[['date','check_date']].last()\n",
    "    mapper=(day_since_df.date-day_since_df.check_date).dt.days\n",
    "    vars[entity+'_day_since']=vars.record.map(mapper)\n",
    "    vars[entity+'_day_since'].fillna(365,inplace=True)\n",
    "    print(f'\\n{entity}_day_since ---> Done')\n",
    "    for offset_t in [0,1,3,7,14,30]:\n",
    "        count_day_df=temp[(temp.check_date>=(temp.date-dt.timedelta(offset_t))) & (temp.record>=temp.check_record)]\n",
    "        col_name=f'{entity}_count_{offset_t}'\n",
    "        mapper2=count_day_df.groupby('record')[entity].count()\n",
    "        vars[col_name]=vars.record.map(mapper2)\n",
    "        print(f'{entity}_count_{str(offset_t)} ---> Done')\n",
    "    print(f'Run time for entity {entity} ---- {time.time()-st}s')\n",
    "print(f'Total run time: {(time.time()-begin)/60} min')"
   ]
  },
  {
   "cell_type": "markdown",
   "id": "handmade-conviction",
   "metadata": {},
   "source": [
    "#### Relative Velocity"
   ]
  },
  {
   "cell_type": "code",
   "execution_count": 19,
   "id": "hearing-rider",
   "metadata": {},
   "outputs": [
    {
     "name": "stdout",
     "output_type": "stream",
     "text": [
      "Total run time: 9.12736177444458s\n"
     ]
    }
   ],
   "source": [
    "start=time.time()\n",
    "for att in attributes:\n",
    "    for d in ['0','1']:\n",
    "        for dd in ['3','7','14','30']:\n",
    "            vars[att+'_count_'+d+'_by_'+dd]=vars[att+'_count_'+d]/(vars[att+'_count_'+dd]/float(dd))\n",
    "print(f'Total run time: {time.time()-start}s')"
   ]
  },
  {
   "cell_type": "code",
   "execution_count": 40,
   "id": "streaming-paragraph",
   "metadata": {},
   "outputs": [
    {
     "data": {
      "text/plain": [
       "list"
      ]
     },
     "execution_count": 40,
     "metadata": {},
     "output_type": "execute_result"
    }
   ],
   "source": [
    "type(attributes)"
   ]
  },
  {
   "cell_type": "code",
   "execution_count": 20,
   "id": "portable-potter",
   "metadata": {},
   "outputs": [],
   "source": [
    "to_remove = [\"address\", \"dob\", \"name\",'ssn_address','homephone','name_homephone','fulladdress_homephone','homephone_name_dob','ssn_homephone','ssn_firstname','ssn_dob','ssn_fulladdress','ssn_name_dob']"
   ]
  },
  {
   "cell_type": "code",
   "execution_count": 25,
   "id": "boring-adams",
   "metadata": {},
   "outputs": [
    {
     "data": {
      "text/plain": [
       "13"
      ]
     },
     "execution_count": 25,
     "metadata": {},
     "output_type": "execute_result"
    }
   ],
   "source": [
    "len(to_remove)"
   ]
  },
  {
   "cell_type": "code",
   "execution_count": 21,
   "id": "unauthorized-bryan",
   "metadata": {},
   "outputs": [],
   "source": [
    "new_att = [x for x in attributes if (x not in to_remove)]"
   ]
  },
  {
   "cell_type": "code",
   "execution_count": 27,
   "id": "described-nickname",
   "metadata": {},
   "outputs": [
    {
     "data": {
      "text/plain": [
       "['ssn',\n",
       " 'fulladdress',\n",
       " 'name_dob',\n",
       " 'name_fulladdress',\n",
       " 'fulladdress_dob',\n",
       " 'dob_homephone',\n",
       " 'ssn_lastname',\n",
       " 'ssn_zip5',\n",
       " 'ssn_name']"
      ]
     },
     "execution_count": 27,
     "metadata": {},
     "output_type": "execute_result"
    }
   ],
   "source": [
    "new_att"
   ]
  },
  {
   "cell_type": "code",
   "execution_count": 28,
   "id": "built-andorra",
   "metadata": {},
   "outputs": [
    {
     "name": "stdout",
     "output_type": "stream",
     "text": [
      "Time: 339.0555229187012s\n"
     ]
    }
   ],
   "source": [
    "start=time.time()\n",
    "vars.to_csv('vars.csv')\n",
    "print(f'Time: {time.time()-start}s')"
   ]
  },
  {
   "cell_type": "markdown",
   "id": "planned-constant",
   "metadata": {},
   "source": [
    "#### Counts by entities"
   ]
  },
  {
   "cell_type": "code",
   "execution_count": 2,
   "id": "organizational-professional",
   "metadata": {},
   "outputs": [
    {
     "name": "stdout",
     "output_type": "stream",
     "text": [
      "Time: 96.76034498214722s\n"
     ]
    }
   ],
   "source": [
    "start=time.time()\n",
    "vars = pd.read_csv('vars.csv')\n",
    "print(f'Time: {time.time()-start}s')"
   ]
  },
  {
   "cell_type": "code",
   "execution_count": 3,
   "id": "medium-hawaii",
   "metadata": {},
   "outputs": [],
   "source": [
    "new_att=['ssn',\n",
    " 'fulladdress',\n",
    " 'name_dob',\n",
    " 'name_fulladdress',\n",
    " 'fulladdress_dob',\n",
    " 'dob_homephone',\n",
    " 'ssn_lastname',\n",
    " 'ssn_zip5',\n",
    " 'ssn_name','ssn_name_dob']"
   ]
  },
  {
   "cell_type": "code",
   "execution_count": 4,
   "id": "opened-geometry",
   "metadata": {},
   "outputs": [
    {
     "name": "stdout",
     "output_type": "stream",
     "text": [
      "Time: 28.283364057540894s\n"
     ]
    }
   ],
   "source": [
    "start=time.time()\n",
    "df1=pd.read_csv('df1.csv')\n",
    "df1['date'] = pd.to_datetime(df1['date'])\n",
    "df1['check_date'] = pd.to_datetime(df1['check_date'])\n",
    "print(f'Time: {time.time()-start}s')"
   ]
  },
  {
   "cell_type": "code",
   "execution_count": 5,
   "id": "superior-immunology",
   "metadata": {},
   "outputs": [
    {
     "name": "stdout",
     "output_type": "stream",
     "text": [
      "Run time for entity ssn in field fulladdress ---- 13.441922426223755s\n",
      "Run time for entity ssn in field name_dob ---- 12.20161771774292s\n",
      "Run time for entity ssn in field name_fulladdress ---- 12.443025588989258s\n",
      "Run time for entity ssn in field fulladdress_dob ---- 12.553300857543945s\n",
      "Run time for entity ssn in field dob_homephone ---- 12.112350940704346s\n",
      "Run time for entity ssn in field ssn_lastname ---- 11.525605201721191s\n",
      "Run time for entity ssn in field ssn_zip5 ---- 11.268529415130615s\n",
      "Run time for entity ssn in field ssn_name ---- 11.661279201507568s\n",
      "Run time for entity ssn in field ssn_name_dob ---- 12.000585079193115s\n",
      "Run time for entity fulladdress in field ssn ---- 11.32059621810913s\n",
      "Run time for entity fulladdress in field name_dob ---- 12.016297578811646s\n",
      "Run time for entity fulladdress in field name_fulladdress ---- 12.044286012649536s\n",
      "Run time for entity fulladdress in field fulladdress_dob ---- 11.759082078933716s\n",
      "Run time for entity fulladdress in field dob_homephone ---- 11.821545124053955s\n",
      "Run time for entity fulladdress in field ssn_lastname ---- 11.599425077438354s\n",
      "Run time for entity fulladdress in field ssn_zip5 ---- 11.3459792137146s\n",
      "Run time for entity fulladdress in field ssn_name ---- 23.77758288383484s\n",
      "Run time for entity fulladdress in field ssn_name_dob ---- 13.092671394348145s\n",
      "Run time for entity name_dob in field ssn ---- 12.078494310379028s\n",
      "Run time for entity name_dob in field fulladdress ---- 11.769832134246826s\n",
      "Run time for entity name_dob in field name_fulladdress ---- 14.13246774673462s\n",
      "Run time for entity name_dob in field fulladdress_dob ---- 12.118324995040894s\n",
      "Run time for entity name_dob in field dob_homephone ---- 11.917265892028809s\n",
      "Run time for entity name_dob in field ssn_lastname ---- 11.973601818084717s\n",
      "Run time for entity name_dob in field ssn_zip5 ---- 12.874683380126953s\n",
      "Run time for entity name_dob in field ssn_name ---- 12.000638723373413s\n",
      "Run time for entity name_dob in field ssn_name_dob ---- 11.568820476531982s\n",
      "Run time for entity name_fulladdress in field ssn ---- 11.213659286499023s\n",
      "Run time for entity name_fulladdress in field fulladdress ---- 11.487467050552368s\n",
      "Run time for entity name_fulladdress in field name_dob ---- 11.772520065307617s\n",
      "Run time for entity name_fulladdress in field fulladdress_dob ---- 11.723554611206055s\n",
      "Run time for entity name_fulladdress in field dob_homephone ---- 11.592276811599731s\n"
     ]
    },
    {
     "ename": "MemoryError",
     "evalue": "Unable to allocate 2.47 GiB for an array with shape (332, 1000000) and data type int64",
     "output_type": "error",
     "traceback": [
      "\u001b[1;31m---------------------------------------------------------------------------\u001b[0m",
      "\u001b[1;31mKeyError\u001b[0m                                  Traceback (most recent call last)",
      "\u001b[1;32mD:\\Anaconda\\lib\\site-packages\\pandas\\core\\indexes\\base.py\u001b[0m in \u001b[0;36mget_loc\u001b[1;34m(self, key, method, tolerance)\u001b[0m\n\u001b[0;32m   2897\u001b[0m             \u001b[1;32mtry\u001b[0m\u001b[1;33m:\u001b[0m\u001b[1;33m\u001b[0m\u001b[1;33m\u001b[0m\u001b[0m\n\u001b[1;32m-> 2898\u001b[1;33m                 \u001b[1;32mreturn\u001b[0m \u001b[0mself\u001b[0m\u001b[1;33m.\u001b[0m\u001b[0m_engine\u001b[0m\u001b[1;33m.\u001b[0m\u001b[0mget_loc\u001b[0m\u001b[1;33m(\u001b[0m\u001b[0mcasted_key\u001b[0m\u001b[1;33m)\u001b[0m\u001b[1;33m\u001b[0m\u001b[1;33m\u001b[0m\u001b[0m\n\u001b[0m\u001b[0;32m   2899\u001b[0m             \u001b[1;32mexcept\u001b[0m \u001b[0mKeyError\u001b[0m \u001b[1;32mas\u001b[0m \u001b[0merr\u001b[0m\u001b[1;33m:\u001b[0m\u001b[1;33m\u001b[0m\u001b[1;33m\u001b[0m\u001b[0m\n",
      "\u001b[1;32mpandas\\_libs\\index.pyx\u001b[0m in \u001b[0;36mpandas._libs.index.IndexEngine.get_loc\u001b[1;34m()\u001b[0m\n",
      "\u001b[1;32mpandas\\_libs\\index.pyx\u001b[0m in \u001b[0;36mpandas._libs.index.IndexEngine.get_loc\u001b[1;34m()\u001b[0m\n",
      "\u001b[1;32mpandas\\_libs\\hashtable_class_helper.pxi\u001b[0m in \u001b[0;36mpandas._libs.hashtable.PyObjectHashTable.get_item\u001b[1;34m()\u001b[0m\n",
      "\u001b[1;32mpandas\\_libs\\hashtable_class_helper.pxi\u001b[0m in \u001b[0;36mpandas._libs.hashtable.PyObjectHashTable.get_item\u001b[1;34m()\u001b[0m\n",
      "\u001b[1;31mKeyError\u001b[0m: 'name_fulladdress_unique_count_for_ssn_lastname_14'",
      "\nThe above exception was the direct cause of the following exception:\n",
      "\u001b[1;31mKeyError\u001b[0m                                  Traceback (most recent call last)",
      "\u001b[1;32mD:\\Anaconda\\lib\\site-packages\\pandas\\core\\generic.py\u001b[0m in \u001b[0;36m_set_item\u001b[1;34m(self, key, value)\u001b[0m\n\u001b[0;32m   3575\u001b[0m         \u001b[1;32mtry\u001b[0m\u001b[1;33m:\u001b[0m\u001b[1;33m\u001b[0m\u001b[1;33m\u001b[0m\u001b[0m\n\u001b[1;32m-> 3576\u001b[1;33m             \u001b[0mloc\u001b[0m \u001b[1;33m=\u001b[0m \u001b[0mself\u001b[0m\u001b[1;33m.\u001b[0m\u001b[0m_info_axis\u001b[0m\u001b[1;33m.\u001b[0m\u001b[0mget_loc\u001b[0m\u001b[1;33m(\u001b[0m\u001b[0mkey\u001b[0m\u001b[1;33m)\u001b[0m\u001b[1;33m\u001b[0m\u001b[1;33m\u001b[0m\u001b[0m\n\u001b[0m\u001b[0;32m   3577\u001b[0m         \u001b[1;32mexcept\u001b[0m \u001b[0mKeyError\u001b[0m\u001b[1;33m:\u001b[0m\u001b[1;33m\u001b[0m\u001b[1;33m\u001b[0m\u001b[0m\n",
      "\u001b[1;32mD:\\Anaconda\\lib\\site-packages\\pandas\\core\\indexes\\base.py\u001b[0m in \u001b[0;36mget_loc\u001b[1;34m(self, key, method, tolerance)\u001b[0m\n\u001b[0;32m   2899\u001b[0m             \u001b[1;32mexcept\u001b[0m \u001b[0mKeyError\u001b[0m \u001b[1;32mas\u001b[0m \u001b[0merr\u001b[0m\u001b[1;33m:\u001b[0m\u001b[1;33m\u001b[0m\u001b[1;33m\u001b[0m\u001b[0m\n\u001b[1;32m-> 2900\u001b[1;33m                 \u001b[1;32mraise\u001b[0m \u001b[0mKeyError\u001b[0m\u001b[1;33m(\u001b[0m\u001b[0mkey\u001b[0m\u001b[1;33m)\u001b[0m \u001b[1;32mfrom\u001b[0m \u001b[0merr\u001b[0m\u001b[1;33m\u001b[0m\u001b[1;33m\u001b[0m\u001b[0m\n\u001b[0m\u001b[0;32m   2901\u001b[0m \u001b[1;33m\u001b[0m\u001b[0m\n",
      "\u001b[1;31mKeyError\u001b[0m: 'name_fulladdress_unique_count_for_ssn_lastname_14'",
      "\nDuring handling of the above exception, another exception occurred:\n",
      "\u001b[1;31mMemoryError\u001b[0m                               Traceback (most recent call last)",
      "\u001b[1;32m<ipython-input-5-ffbd64161c06>\u001b[0m in \u001b[0;36m<module>\u001b[1;34m\u001b[0m\n\u001b[0;32m     13\u001b[0m             \u001b[0mcol_name\u001b[0m\u001b[1;33m=\u001b[0m\u001b[1;34mf'{entity}_unique_count_for_{field}_{offset_t}'\u001b[0m\u001b[1;33m\u001b[0m\u001b[1;33m\u001b[0m\u001b[0m\n\u001b[0;32m     14\u001b[0m             \u001b[0mmapper\u001b[0m\u001b[1;33m=\u001b[0m\u001b[0mcount_day_df\u001b[0m\u001b[1;33m.\u001b[0m\u001b[0mgroupby\u001b[0m\u001b[1;33m(\u001b[0m\u001b[1;33m[\u001b[0m\u001b[1;34m'record'\u001b[0m\u001b[1;33m]\u001b[0m\u001b[1;33m)\u001b[0m\u001b[1;33m[\u001b[0m\u001b[0mfield\u001b[0m\u001b[1;33m]\u001b[0m\u001b[1;33m.\u001b[0m\u001b[0mnunique\u001b[0m\u001b[1;33m(\u001b[0m\u001b[1;33m)\u001b[0m\u001b[1;33m\u001b[0m\u001b[1;33m\u001b[0m\u001b[0m\n\u001b[1;32m---> 15\u001b[1;33m             \u001b[0mvars\u001b[0m\u001b[1;33m[\u001b[0m\u001b[0mcol_name\u001b[0m\u001b[1;33m]\u001b[0m\u001b[1;33m=\u001b[0m\u001b[0mvars\u001b[0m\u001b[1;33m.\u001b[0m\u001b[0mrecord\u001b[0m\u001b[1;33m.\u001b[0m\u001b[0mmap\u001b[0m\u001b[1;33m(\u001b[0m\u001b[0mmapper\u001b[0m\u001b[1;33m)\u001b[0m\u001b[1;33m\u001b[0m\u001b[1;33m\u001b[0m\u001b[0m\n\u001b[0m\u001b[0;32m     16\u001b[0m         \u001b[0mprint\u001b[0m\u001b[1;33m(\u001b[0m\u001b[1;34mf'Run time for entity {entity} in field {field} ---- {time.time()-st}s'\u001b[0m\u001b[1;33m)\u001b[0m\u001b[1;33m\u001b[0m\u001b[1;33m\u001b[0m\u001b[0m\n\u001b[0;32m     17\u001b[0m \u001b[0mprint\u001b[0m\u001b[1;33m(\u001b[0m\u001b[1;34mf'Total Run Time: {(time.time()-begin)/60} min'\u001b[0m\u001b[1;33m)\u001b[0m\u001b[1;33m\u001b[0m\u001b[1;33m\u001b[0m\u001b[0m\n",
      "\u001b[1;32mD:\\Anaconda\\lib\\site-packages\\pandas\\core\\frame.py\u001b[0m in \u001b[0;36m__setitem__\u001b[1;34m(self, key, value)\u001b[0m\n\u001b[0;32m   3042\u001b[0m         \u001b[1;32melse\u001b[0m\u001b[1;33m:\u001b[0m\u001b[1;33m\u001b[0m\u001b[1;33m\u001b[0m\u001b[0m\n\u001b[0;32m   3043\u001b[0m             \u001b[1;31m# set column\u001b[0m\u001b[1;33m\u001b[0m\u001b[1;33m\u001b[0m\u001b[1;33m\u001b[0m\u001b[0m\n\u001b[1;32m-> 3044\u001b[1;33m             \u001b[0mself\u001b[0m\u001b[1;33m.\u001b[0m\u001b[0m_set_item\u001b[0m\u001b[1;33m(\u001b[0m\u001b[0mkey\u001b[0m\u001b[1;33m,\u001b[0m \u001b[0mvalue\u001b[0m\u001b[1;33m)\u001b[0m\u001b[1;33m\u001b[0m\u001b[1;33m\u001b[0m\u001b[0m\n\u001b[0m\u001b[0;32m   3045\u001b[0m \u001b[1;33m\u001b[0m\u001b[0m\n\u001b[0;32m   3046\u001b[0m     \u001b[1;32mdef\u001b[0m \u001b[0m_setitem_slice\u001b[0m\u001b[1;33m(\u001b[0m\u001b[0mself\u001b[0m\u001b[1;33m,\u001b[0m \u001b[0mkey\u001b[0m\u001b[1;33m:\u001b[0m \u001b[0mslice\u001b[0m\u001b[1;33m,\u001b[0m \u001b[0mvalue\u001b[0m\u001b[1;33m)\u001b[0m\u001b[1;33m:\u001b[0m\u001b[1;33m\u001b[0m\u001b[1;33m\u001b[0m\u001b[0m\n",
      "\u001b[1;32mD:\\Anaconda\\lib\\site-packages\\pandas\\core\\frame.py\u001b[0m in \u001b[0;36m_set_item\u001b[1;34m(self, key, value)\u001b[0m\n\u001b[0;32m   3119\u001b[0m         \u001b[0mself\u001b[0m\u001b[1;33m.\u001b[0m\u001b[0m_ensure_valid_index\u001b[0m\u001b[1;33m(\u001b[0m\u001b[0mvalue\u001b[0m\u001b[1;33m)\u001b[0m\u001b[1;33m\u001b[0m\u001b[1;33m\u001b[0m\u001b[0m\n\u001b[0;32m   3120\u001b[0m         \u001b[0mvalue\u001b[0m \u001b[1;33m=\u001b[0m \u001b[0mself\u001b[0m\u001b[1;33m.\u001b[0m\u001b[0m_sanitize_column\u001b[0m\u001b[1;33m(\u001b[0m\u001b[0mkey\u001b[0m\u001b[1;33m,\u001b[0m \u001b[0mvalue\u001b[0m\u001b[1;33m)\u001b[0m\u001b[1;33m\u001b[0m\u001b[1;33m\u001b[0m\u001b[0m\n\u001b[1;32m-> 3121\u001b[1;33m         \u001b[0mNDFrame\u001b[0m\u001b[1;33m.\u001b[0m\u001b[0m_set_item\u001b[0m\u001b[1;33m(\u001b[0m\u001b[0mself\u001b[0m\u001b[1;33m,\u001b[0m \u001b[0mkey\u001b[0m\u001b[1;33m,\u001b[0m \u001b[0mvalue\u001b[0m\u001b[1;33m)\u001b[0m\u001b[1;33m\u001b[0m\u001b[1;33m\u001b[0m\u001b[0m\n\u001b[0m\u001b[0;32m   3122\u001b[0m \u001b[1;33m\u001b[0m\u001b[0m\n\u001b[0;32m   3123\u001b[0m         \u001b[1;31m# check if we are modifying a copy\u001b[0m\u001b[1;33m\u001b[0m\u001b[1;33m\u001b[0m\u001b[1;33m\u001b[0m\u001b[0m\n",
      "\u001b[1;32mD:\\Anaconda\\lib\\site-packages\\pandas\\core\\generic.py\u001b[0m in \u001b[0;36m_set_item\u001b[1;34m(self, key, value)\u001b[0m\n\u001b[0;32m   3577\u001b[0m         \u001b[1;32mexcept\u001b[0m \u001b[0mKeyError\u001b[0m\u001b[1;33m:\u001b[0m\u001b[1;33m\u001b[0m\u001b[1;33m\u001b[0m\u001b[0m\n\u001b[0;32m   3578\u001b[0m             \u001b[1;31m# This item wasn't present, just insert at end\u001b[0m\u001b[1;33m\u001b[0m\u001b[1;33m\u001b[0m\u001b[1;33m\u001b[0m\u001b[0m\n\u001b[1;32m-> 3579\u001b[1;33m             \u001b[0mself\u001b[0m\u001b[1;33m.\u001b[0m\u001b[0m_mgr\u001b[0m\u001b[1;33m.\u001b[0m\u001b[0minsert\u001b[0m\u001b[1;33m(\u001b[0m\u001b[0mlen\u001b[0m\u001b[1;33m(\u001b[0m\u001b[0mself\u001b[0m\u001b[1;33m.\u001b[0m\u001b[0m_info_axis\u001b[0m\u001b[1;33m)\u001b[0m\u001b[1;33m,\u001b[0m \u001b[0mkey\u001b[0m\u001b[1;33m,\u001b[0m \u001b[0mvalue\u001b[0m\u001b[1;33m)\u001b[0m\u001b[1;33m\u001b[0m\u001b[1;33m\u001b[0m\u001b[0m\n\u001b[0m\u001b[0;32m   3580\u001b[0m             \u001b[1;32mreturn\u001b[0m\u001b[1;33m\u001b[0m\u001b[1;33m\u001b[0m\u001b[0m\n\u001b[0;32m   3581\u001b[0m \u001b[1;33m\u001b[0m\u001b[0m\n",
      "\u001b[1;32mD:\\Anaconda\\lib\\site-packages\\pandas\\core\\internals\\managers.py\u001b[0m in \u001b[0;36minsert\u001b[1;34m(self, loc, item, value, allow_duplicates)\u001b[0m\n\u001b[0;32m   1222\u001b[0m \u001b[1;33m\u001b[0m\u001b[0m\n\u001b[0;32m   1223\u001b[0m         \u001b[1;32mif\u001b[0m \u001b[0mlen\u001b[0m\u001b[1;33m(\u001b[0m\u001b[0mself\u001b[0m\u001b[1;33m.\u001b[0m\u001b[0mblocks\u001b[0m\u001b[1;33m)\u001b[0m \u001b[1;33m>\u001b[0m \u001b[1;36m100\u001b[0m\u001b[1;33m:\u001b[0m\u001b[1;33m\u001b[0m\u001b[1;33m\u001b[0m\u001b[0m\n\u001b[1;32m-> 1224\u001b[1;33m             \u001b[0mself\u001b[0m\u001b[1;33m.\u001b[0m\u001b[0m_consolidate_inplace\u001b[0m\u001b[1;33m(\u001b[0m\u001b[1;33m)\u001b[0m\u001b[1;33m\u001b[0m\u001b[1;33m\u001b[0m\u001b[0m\n\u001b[0m\u001b[0;32m   1225\u001b[0m \u001b[1;33m\u001b[0m\u001b[0m\n\u001b[0;32m   1226\u001b[0m     def reindex_axis(\n",
      "\u001b[1;32mD:\\Anaconda\\lib\\site-packages\\pandas\\core\\internals\\managers.py\u001b[0m in \u001b[0;36m_consolidate_inplace\u001b[1;34m(self)\u001b[0m\n\u001b[0;32m    986\u001b[0m     \u001b[1;32mdef\u001b[0m \u001b[0m_consolidate_inplace\u001b[0m\u001b[1;33m(\u001b[0m\u001b[0mself\u001b[0m\u001b[1;33m)\u001b[0m \u001b[1;33m->\u001b[0m \u001b[1;32mNone\u001b[0m\u001b[1;33m:\u001b[0m\u001b[1;33m\u001b[0m\u001b[1;33m\u001b[0m\u001b[0m\n\u001b[0;32m    987\u001b[0m         \u001b[1;32mif\u001b[0m \u001b[1;32mnot\u001b[0m \u001b[0mself\u001b[0m\u001b[1;33m.\u001b[0m\u001b[0mis_consolidated\u001b[0m\u001b[1;33m(\u001b[0m\u001b[1;33m)\u001b[0m\u001b[1;33m:\u001b[0m\u001b[1;33m\u001b[0m\u001b[1;33m\u001b[0m\u001b[0m\n\u001b[1;32m--> 988\u001b[1;33m             \u001b[0mself\u001b[0m\u001b[1;33m.\u001b[0m\u001b[0mblocks\u001b[0m \u001b[1;33m=\u001b[0m \u001b[0mtuple\u001b[0m\u001b[1;33m(\u001b[0m\u001b[0m_consolidate\u001b[0m\u001b[1;33m(\u001b[0m\u001b[0mself\u001b[0m\u001b[1;33m.\u001b[0m\u001b[0mblocks\u001b[0m\u001b[1;33m)\u001b[0m\u001b[1;33m)\u001b[0m\u001b[1;33m\u001b[0m\u001b[1;33m\u001b[0m\u001b[0m\n\u001b[0m\u001b[0;32m    989\u001b[0m             \u001b[0mself\u001b[0m\u001b[1;33m.\u001b[0m\u001b[0m_is_consolidated\u001b[0m \u001b[1;33m=\u001b[0m \u001b[1;32mTrue\u001b[0m\u001b[1;33m\u001b[0m\u001b[1;33m\u001b[0m\u001b[0m\n\u001b[0;32m    990\u001b[0m             \u001b[0mself\u001b[0m\u001b[1;33m.\u001b[0m\u001b[0m_known_consolidated\u001b[0m \u001b[1;33m=\u001b[0m \u001b[1;32mTrue\u001b[0m\u001b[1;33m\u001b[0m\u001b[1;33m\u001b[0m\u001b[0m\n",
      "\u001b[1;32mD:\\Anaconda\\lib\\site-packages\\pandas\\core\\internals\\managers.py\u001b[0m in \u001b[0;36m_consolidate\u001b[1;34m(blocks)\u001b[0m\n\u001b[0;32m   1907\u001b[0m     \u001b[1;32mfor\u001b[0m \u001b[1;33m(\u001b[0m\u001b[0m_can_consolidate\u001b[0m\u001b[1;33m,\u001b[0m \u001b[0mdtype\u001b[0m\u001b[1;33m)\u001b[0m\u001b[1;33m,\u001b[0m \u001b[0mgroup_blocks\u001b[0m \u001b[1;32min\u001b[0m \u001b[0mgrouper\u001b[0m\u001b[1;33m:\u001b[0m\u001b[1;33m\u001b[0m\u001b[1;33m\u001b[0m\u001b[0m\n\u001b[0;32m   1908\u001b[0m         merged_blocks = _merge_blocks(\n\u001b[1;32m-> 1909\u001b[1;33m             \u001b[0mlist\u001b[0m\u001b[1;33m(\u001b[0m\u001b[0mgroup_blocks\u001b[0m\u001b[1;33m)\u001b[0m\u001b[1;33m,\u001b[0m \u001b[0mdtype\u001b[0m\u001b[1;33m=\u001b[0m\u001b[0mdtype\u001b[0m\u001b[1;33m,\u001b[0m \u001b[0mcan_consolidate\u001b[0m\u001b[1;33m=\u001b[0m\u001b[0m_can_consolidate\u001b[0m\u001b[1;33m\u001b[0m\u001b[1;33m\u001b[0m\u001b[0m\n\u001b[0m\u001b[0;32m   1910\u001b[0m         )\n\u001b[0;32m   1911\u001b[0m         \u001b[0mnew_blocks\u001b[0m \u001b[1;33m=\u001b[0m \u001b[0m_extend_blocks\u001b[0m\u001b[1;33m(\u001b[0m\u001b[0mmerged_blocks\u001b[0m\u001b[1;33m,\u001b[0m \u001b[0mnew_blocks\u001b[0m\u001b[1;33m)\u001b[0m\u001b[1;33m\u001b[0m\u001b[1;33m\u001b[0m\u001b[0m\n",
      "\u001b[1;32mD:\\Anaconda\\lib\\site-packages\\pandas\\core\\internals\\managers.py\u001b[0m in \u001b[0;36m_merge_blocks\u001b[1;34m(blocks, dtype, can_consolidate)\u001b[0m\n\u001b[0;32m   1932\u001b[0m \u001b[1;33m\u001b[0m\u001b[0m\n\u001b[0;32m   1933\u001b[0m         \u001b[0margsort\u001b[0m \u001b[1;33m=\u001b[0m \u001b[0mnp\u001b[0m\u001b[1;33m.\u001b[0m\u001b[0margsort\u001b[0m\u001b[1;33m(\u001b[0m\u001b[0mnew_mgr_locs\u001b[0m\u001b[1;33m)\u001b[0m\u001b[1;33m\u001b[0m\u001b[1;33m\u001b[0m\u001b[0m\n\u001b[1;32m-> 1934\u001b[1;33m         \u001b[0mnew_values\u001b[0m \u001b[1;33m=\u001b[0m \u001b[0mnew_values\u001b[0m\u001b[1;33m[\u001b[0m\u001b[0margsort\u001b[0m\u001b[1;33m]\u001b[0m\u001b[1;33m\u001b[0m\u001b[1;33m\u001b[0m\u001b[0m\n\u001b[0m\u001b[0;32m   1935\u001b[0m         \u001b[0mnew_mgr_locs\u001b[0m \u001b[1;33m=\u001b[0m \u001b[0mnew_mgr_locs\u001b[0m\u001b[1;33m[\u001b[0m\u001b[0margsort\u001b[0m\u001b[1;33m]\u001b[0m\u001b[1;33m\u001b[0m\u001b[1;33m\u001b[0m\u001b[0m\n\u001b[0;32m   1936\u001b[0m \u001b[1;33m\u001b[0m\u001b[0m\n",
      "\u001b[1;31mMemoryError\u001b[0m: Unable to allocate 2.47 GiB for an array with shape (332, 1000000) and data type int64"
     ]
    }
   ],
   "source": [
    "begin=time.time()\n",
    "for entity in new_att:\n",
    "    for field in new_att:       \n",
    "        st=time.time()\n",
    "        if field==entity:\n",
    "            continue\n",
    "        else:\n",
    "            df_c=df1[['record','date',entity]]\n",
    "            df_d=df1[['check_record','check_date',entity,field]]\n",
    "            temp=pd.merge(df_c,df_d,left_on=entity,right_on=entity)\n",
    "        for offset_t in [1,3,7,14,30,60]:            \n",
    "            count_day_df=temp[(temp.check_date>=(temp.date-dt.timedelta(offset_t)))&(temp.record>=temp.check_record)]            \n",
    "            col_name=f'{entity}_unique_count_for_{field}_{offset_t}'\n",
    "            mapper=count_day_df.groupby(['record'])[field].nunique()\n",
    "            vars[col_name]=vars.record.map(mapper)\n",
    "        print(f'Run time for entity {entity} in field {field} ---- {time.time()-st}s')\n",
    "print(f'Total Run Time: {(time.time()-begin)/60} min')"
   ]
  },
  {
   "cell_type": "code",
   "execution_count": 10,
   "id": "posted-nickname",
   "metadata": {},
   "outputs": [
    {
     "data": {
      "text/plain": [
       "(1000000, 558)"
      ]
     },
     "execution_count": 10,
     "metadata": {},
     "output_type": "execute_result"
    }
   ],
   "source": [
    "# currently there are 558 columns in vars\n",
    "vars.shape"
   ]
  },
  {
   "cell_type": "code",
   "execution_count": 7,
   "id": "composed-centre",
   "metadata": {},
   "outputs": [
    {
     "ename": "MemoryError",
     "evalue": "Unable to allocate 2.48 GiB for an array with shape (333, 1000000) and data type int64",
     "output_type": "error",
     "traceback": [
      "\u001b[1;31m---------------------------------------------------------------------------\u001b[0m",
      "\u001b[1;31mKeyError\u001b[0m                                  Traceback (most recent call last)",
      "\u001b[1;32mD:\\Anaconda\\lib\\site-packages\\pandas\\core\\indexes\\base.py\u001b[0m in \u001b[0;36mget_loc\u001b[1;34m(self, key, method, tolerance)\u001b[0m\n\u001b[0;32m   2897\u001b[0m             \u001b[1;32mtry\u001b[0m\u001b[1;33m:\u001b[0m\u001b[1;33m\u001b[0m\u001b[1;33m\u001b[0m\u001b[0m\n\u001b[1;32m-> 2898\u001b[1;33m                 \u001b[1;32mreturn\u001b[0m \u001b[0mself\u001b[0m\u001b[1;33m.\u001b[0m\u001b[0m_engine\u001b[0m\u001b[1;33m.\u001b[0m\u001b[0mget_loc\u001b[0m\u001b[1;33m(\u001b[0m\u001b[0mcasted_key\u001b[0m\u001b[1;33m)\u001b[0m\u001b[1;33m\u001b[0m\u001b[1;33m\u001b[0m\u001b[0m\n\u001b[0m\u001b[0;32m   2899\u001b[0m             \u001b[1;32mexcept\u001b[0m \u001b[0mKeyError\u001b[0m \u001b[1;32mas\u001b[0m \u001b[0merr\u001b[0m\u001b[1;33m:\u001b[0m\u001b[1;33m\u001b[0m\u001b[1;33m\u001b[0m\u001b[0m\n",
      "\u001b[1;32mpandas\\_libs\\index.pyx\u001b[0m in \u001b[0;36mpandas._libs.index.IndexEngine.get_loc\u001b[1;34m()\u001b[0m\n",
      "\u001b[1;32mpandas\\_libs\\index.pyx\u001b[0m in \u001b[0;36mpandas._libs.index.IndexEngine.get_loc\u001b[1;34m()\u001b[0m\n",
      "\u001b[1;32mpandas\\_libs\\hashtable_class_helper.pxi\u001b[0m in \u001b[0;36mpandas._libs.hashtable.PyObjectHashTable.get_item\u001b[1;34m()\u001b[0m\n",
      "\u001b[1;32mpandas\\_libs\\hashtable_class_helper.pxi\u001b[0m in \u001b[0;36mpandas._libs.hashtable.PyObjectHashTable.get_item\u001b[1;34m()\u001b[0m\n",
      "\u001b[1;31mKeyError\u001b[0m: 'ssn_fulladdress_unique_count_for_ssn_1'",
      "\nThe above exception was the direct cause of the following exception:\n",
      "\u001b[1;31mKeyError\u001b[0m                                  Traceback (most recent call last)",
      "\u001b[1;32mD:\\Anaconda\\lib\\site-packages\\pandas\\core\\generic.py\u001b[0m in \u001b[0;36m_set_item\u001b[1;34m(self, key, value)\u001b[0m\n\u001b[0;32m   3575\u001b[0m         \u001b[1;32mtry\u001b[0m\u001b[1;33m:\u001b[0m\u001b[1;33m\u001b[0m\u001b[1;33m\u001b[0m\u001b[0m\n\u001b[1;32m-> 3576\u001b[1;33m             \u001b[0mloc\u001b[0m \u001b[1;33m=\u001b[0m \u001b[0mself\u001b[0m\u001b[1;33m.\u001b[0m\u001b[0m_info_axis\u001b[0m\u001b[1;33m.\u001b[0m\u001b[0mget_loc\u001b[0m\u001b[1;33m(\u001b[0m\u001b[0mkey\u001b[0m\u001b[1;33m)\u001b[0m\u001b[1;33m\u001b[0m\u001b[1;33m\u001b[0m\u001b[0m\n\u001b[0m\u001b[0;32m   3577\u001b[0m         \u001b[1;32mexcept\u001b[0m \u001b[0mKeyError\u001b[0m\u001b[1;33m:\u001b[0m\u001b[1;33m\u001b[0m\u001b[1;33m\u001b[0m\u001b[0m\n",
      "\u001b[1;32mD:\\Anaconda\\lib\\site-packages\\pandas\\core\\indexes\\base.py\u001b[0m in \u001b[0;36mget_loc\u001b[1;34m(self, key, method, tolerance)\u001b[0m\n\u001b[0;32m   2899\u001b[0m             \u001b[1;32mexcept\u001b[0m \u001b[0mKeyError\u001b[0m \u001b[1;32mas\u001b[0m \u001b[0merr\u001b[0m\u001b[1;33m:\u001b[0m\u001b[1;33m\u001b[0m\u001b[1;33m\u001b[0m\u001b[0m\n\u001b[1;32m-> 2900\u001b[1;33m                 \u001b[1;32mraise\u001b[0m \u001b[0mKeyError\u001b[0m\u001b[1;33m(\u001b[0m\u001b[0mkey\u001b[0m\u001b[1;33m)\u001b[0m \u001b[1;32mfrom\u001b[0m \u001b[0merr\u001b[0m\u001b[1;33m\u001b[0m\u001b[1;33m\u001b[0m\u001b[0m\n\u001b[0m\u001b[0;32m   2901\u001b[0m \u001b[1;33m\u001b[0m\u001b[0m\n",
      "\u001b[1;31mKeyError\u001b[0m: 'ssn_fulladdress_unique_count_for_ssn_1'",
      "\nDuring handling of the above exception, another exception occurred:\n",
      "\u001b[1;31mMemoryError\u001b[0m                               Traceback (most recent call last)",
      "\u001b[1;32m<ipython-input-7-52cbdbe8e173>\u001b[0m in \u001b[0;36m<module>\u001b[1;34m\u001b[0m\n\u001b[0;32m     17\u001b[0m             \u001b[0mcol_name\u001b[0m\u001b[1;33m=\u001b[0m\u001b[1;34mf'{entity}_unique_count_for_{field}_{offset_t}'\u001b[0m\u001b[1;33m\u001b[0m\u001b[1;33m\u001b[0m\u001b[0m\n\u001b[0;32m     18\u001b[0m             \u001b[0mmapper\u001b[0m\u001b[1;33m=\u001b[0m\u001b[0mcount_day_df\u001b[0m\u001b[1;33m.\u001b[0m\u001b[0mgroupby\u001b[0m\u001b[1;33m(\u001b[0m\u001b[1;33m[\u001b[0m\u001b[1;34m'record'\u001b[0m\u001b[1;33m]\u001b[0m\u001b[1;33m)\u001b[0m\u001b[1;33m[\u001b[0m\u001b[0mfield\u001b[0m\u001b[1;33m]\u001b[0m\u001b[1;33m.\u001b[0m\u001b[0mnunique\u001b[0m\u001b[1;33m(\u001b[0m\u001b[1;33m)\u001b[0m\u001b[1;33m\u001b[0m\u001b[1;33m\u001b[0m\u001b[0m\n\u001b[1;32m---> 19\u001b[1;33m             \u001b[0mvars\u001b[0m\u001b[1;33m[\u001b[0m\u001b[0mcol_name\u001b[0m\u001b[1;33m]\u001b[0m\u001b[1;33m=\u001b[0m\u001b[0mvars\u001b[0m\u001b[1;33m.\u001b[0m\u001b[0mrecord\u001b[0m\u001b[1;33m.\u001b[0m\u001b[0mmap\u001b[0m\u001b[1;33m(\u001b[0m\u001b[0mmapper\u001b[0m\u001b[1;33m)\u001b[0m\u001b[1;33m\u001b[0m\u001b[1;33m\u001b[0m\u001b[0m\n\u001b[0m\u001b[0;32m     20\u001b[0m             \u001b[1;32mif\u001b[0m \u001b[0mKeyError\u001b[0m \u001b[1;32mor\u001b[0m \u001b[0mMemoryError\u001b[0m\u001b[1;33m:\u001b[0m\u001b[1;33m\u001b[0m\u001b[1;33m\u001b[0m\u001b[0m\n\u001b[0;32m     21\u001b[0m                 \u001b[0mprint\u001b[0m\u001b[1;33m(\u001b[0m\u001b[1;34mf'Not Enough Memory for {col_name}'\u001b[0m\u001b[1;33m)\u001b[0m\u001b[1;33m\u001b[0m\u001b[1;33m\u001b[0m\u001b[0m\n",
      "\u001b[1;32mD:\\Anaconda\\lib\\site-packages\\pandas\\core\\frame.py\u001b[0m in \u001b[0;36m__setitem__\u001b[1;34m(self, key, value)\u001b[0m\n\u001b[0;32m   3042\u001b[0m         \u001b[1;32melse\u001b[0m\u001b[1;33m:\u001b[0m\u001b[1;33m\u001b[0m\u001b[1;33m\u001b[0m\u001b[0m\n\u001b[0;32m   3043\u001b[0m             \u001b[1;31m# set column\u001b[0m\u001b[1;33m\u001b[0m\u001b[1;33m\u001b[0m\u001b[1;33m\u001b[0m\u001b[0m\n\u001b[1;32m-> 3044\u001b[1;33m             \u001b[0mself\u001b[0m\u001b[1;33m.\u001b[0m\u001b[0m_set_item\u001b[0m\u001b[1;33m(\u001b[0m\u001b[0mkey\u001b[0m\u001b[1;33m,\u001b[0m \u001b[0mvalue\u001b[0m\u001b[1;33m)\u001b[0m\u001b[1;33m\u001b[0m\u001b[1;33m\u001b[0m\u001b[0m\n\u001b[0m\u001b[0;32m   3045\u001b[0m \u001b[1;33m\u001b[0m\u001b[0m\n\u001b[0;32m   3046\u001b[0m     \u001b[1;32mdef\u001b[0m \u001b[0m_setitem_slice\u001b[0m\u001b[1;33m(\u001b[0m\u001b[0mself\u001b[0m\u001b[1;33m,\u001b[0m \u001b[0mkey\u001b[0m\u001b[1;33m:\u001b[0m \u001b[0mslice\u001b[0m\u001b[1;33m,\u001b[0m \u001b[0mvalue\u001b[0m\u001b[1;33m)\u001b[0m\u001b[1;33m:\u001b[0m\u001b[1;33m\u001b[0m\u001b[1;33m\u001b[0m\u001b[0m\n",
      "\u001b[1;32mD:\\Anaconda\\lib\\site-packages\\pandas\\core\\frame.py\u001b[0m in \u001b[0;36m_set_item\u001b[1;34m(self, key, value)\u001b[0m\n\u001b[0;32m   3119\u001b[0m         \u001b[0mself\u001b[0m\u001b[1;33m.\u001b[0m\u001b[0m_ensure_valid_index\u001b[0m\u001b[1;33m(\u001b[0m\u001b[0mvalue\u001b[0m\u001b[1;33m)\u001b[0m\u001b[1;33m\u001b[0m\u001b[1;33m\u001b[0m\u001b[0m\n\u001b[0;32m   3120\u001b[0m         \u001b[0mvalue\u001b[0m \u001b[1;33m=\u001b[0m \u001b[0mself\u001b[0m\u001b[1;33m.\u001b[0m\u001b[0m_sanitize_column\u001b[0m\u001b[1;33m(\u001b[0m\u001b[0mkey\u001b[0m\u001b[1;33m,\u001b[0m \u001b[0mvalue\u001b[0m\u001b[1;33m)\u001b[0m\u001b[1;33m\u001b[0m\u001b[1;33m\u001b[0m\u001b[0m\n\u001b[1;32m-> 3121\u001b[1;33m         \u001b[0mNDFrame\u001b[0m\u001b[1;33m.\u001b[0m\u001b[0m_set_item\u001b[0m\u001b[1;33m(\u001b[0m\u001b[0mself\u001b[0m\u001b[1;33m,\u001b[0m \u001b[0mkey\u001b[0m\u001b[1;33m,\u001b[0m \u001b[0mvalue\u001b[0m\u001b[1;33m)\u001b[0m\u001b[1;33m\u001b[0m\u001b[1;33m\u001b[0m\u001b[0m\n\u001b[0m\u001b[0;32m   3122\u001b[0m \u001b[1;33m\u001b[0m\u001b[0m\n\u001b[0;32m   3123\u001b[0m         \u001b[1;31m# check if we are modifying a copy\u001b[0m\u001b[1;33m\u001b[0m\u001b[1;33m\u001b[0m\u001b[1;33m\u001b[0m\u001b[0m\n",
      "\u001b[1;32mD:\\Anaconda\\lib\\site-packages\\pandas\\core\\generic.py\u001b[0m in \u001b[0;36m_set_item\u001b[1;34m(self, key, value)\u001b[0m\n\u001b[0;32m   3577\u001b[0m         \u001b[1;32mexcept\u001b[0m \u001b[0mKeyError\u001b[0m\u001b[1;33m:\u001b[0m\u001b[1;33m\u001b[0m\u001b[1;33m\u001b[0m\u001b[0m\n\u001b[0;32m   3578\u001b[0m             \u001b[1;31m# This item wasn't present, just insert at end\u001b[0m\u001b[1;33m\u001b[0m\u001b[1;33m\u001b[0m\u001b[1;33m\u001b[0m\u001b[0m\n\u001b[1;32m-> 3579\u001b[1;33m             \u001b[0mself\u001b[0m\u001b[1;33m.\u001b[0m\u001b[0m_mgr\u001b[0m\u001b[1;33m.\u001b[0m\u001b[0minsert\u001b[0m\u001b[1;33m(\u001b[0m\u001b[0mlen\u001b[0m\u001b[1;33m(\u001b[0m\u001b[0mself\u001b[0m\u001b[1;33m.\u001b[0m\u001b[0m_info_axis\u001b[0m\u001b[1;33m)\u001b[0m\u001b[1;33m,\u001b[0m \u001b[0mkey\u001b[0m\u001b[1;33m,\u001b[0m \u001b[0mvalue\u001b[0m\u001b[1;33m)\u001b[0m\u001b[1;33m\u001b[0m\u001b[1;33m\u001b[0m\u001b[0m\n\u001b[0m\u001b[0;32m   3580\u001b[0m             \u001b[1;32mreturn\u001b[0m\u001b[1;33m\u001b[0m\u001b[1;33m\u001b[0m\u001b[0m\n\u001b[0;32m   3581\u001b[0m \u001b[1;33m\u001b[0m\u001b[0m\n",
      "\u001b[1;32mD:\\Anaconda\\lib\\site-packages\\pandas\\core\\internals\\managers.py\u001b[0m in \u001b[0;36minsert\u001b[1;34m(self, loc, item, value, allow_duplicates)\u001b[0m\n\u001b[0;32m   1222\u001b[0m \u001b[1;33m\u001b[0m\u001b[0m\n\u001b[0;32m   1223\u001b[0m         \u001b[1;32mif\u001b[0m \u001b[0mlen\u001b[0m\u001b[1;33m(\u001b[0m\u001b[0mself\u001b[0m\u001b[1;33m.\u001b[0m\u001b[0mblocks\u001b[0m\u001b[1;33m)\u001b[0m \u001b[1;33m>\u001b[0m \u001b[1;36m100\u001b[0m\u001b[1;33m:\u001b[0m\u001b[1;33m\u001b[0m\u001b[1;33m\u001b[0m\u001b[0m\n\u001b[1;32m-> 1224\u001b[1;33m             \u001b[0mself\u001b[0m\u001b[1;33m.\u001b[0m\u001b[0m_consolidate_inplace\u001b[0m\u001b[1;33m(\u001b[0m\u001b[1;33m)\u001b[0m\u001b[1;33m\u001b[0m\u001b[1;33m\u001b[0m\u001b[0m\n\u001b[0m\u001b[0;32m   1225\u001b[0m \u001b[1;33m\u001b[0m\u001b[0m\n\u001b[0;32m   1226\u001b[0m     def reindex_axis(\n",
      "\u001b[1;32mD:\\Anaconda\\lib\\site-packages\\pandas\\core\\internals\\managers.py\u001b[0m in \u001b[0;36m_consolidate_inplace\u001b[1;34m(self)\u001b[0m\n\u001b[0;32m    986\u001b[0m     \u001b[1;32mdef\u001b[0m \u001b[0m_consolidate_inplace\u001b[0m\u001b[1;33m(\u001b[0m\u001b[0mself\u001b[0m\u001b[1;33m)\u001b[0m \u001b[1;33m->\u001b[0m \u001b[1;32mNone\u001b[0m\u001b[1;33m:\u001b[0m\u001b[1;33m\u001b[0m\u001b[1;33m\u001b[0m\u001b[0m\n\u001b[0;32m    987\u001b[0m         \u001b[1;32mif\u001b[0m \u001b[1;32mnot\u001b[0m \u001b[0mself\u001b[0m\u001b[1;33m.\u001b[0m\u001b[0mis_consolidated\u001b[0m\u001b[1;33m(\u001b[0m\u001b[1;33m)\u001b[0m\u001b[1;33m:\u001b[0m\u001b[1;33m\u001b[0m\u001b[1;33m\u001b[0m\u001b[0m\n\u001b[1;32m--> 988\u001b[1;33m             \u001b[0mself\u001b[0m\u001b[1;33m.\u001b[0m\u001b[0mblocks\u001b[0m \u001b[1;33m=\u001b[0m \u001b[0mtuple\u001b[0m\u001b[1;33m(\u001b[0m\u001b[0m_consolidate\u001b[0m\u001b[1;33m(\u001b[0m\u001b[0mself\u001b[0m\u001b[1;33m.\u001b[0m\u001b[0mblocks\u001b[0m\u001b[1;33m)\u001b[0m\u001b[1;33m)\u001b[0m\u001b[1;33m\u001b[0m\u001b[1;33m\u001b[0m\u001b[0m\n\u001b[0m\u001b[0;32m    989\u001b[0m             \u001b[0mself\u001b[0m\u001b[1;33m.\u001b[0m\u001b[0m_is_consolidated\u001b[0m \u001b[1;33m=\u001b[0m \u001b[1;32mTrue\u001b[0m\u001b[1;33m\u001b[0m\u001b[1;33m\u001b[0m\u001b[0m\n\u001b[0;32m    990\u001b[0m             \u001b[0mself\u001b[0m\u001b[1;33m.\u001b[0m\u001b[0m_known_consolidated\u001b[0m \u001b[1;33m=\u001b[0m \u001b[1;32mTrue\u001b[0m\u001b[1;33m\u001b[0m\u001b[1;33m\u001b[0m\u001b[0m\n",
      "\u001b[1;32mD:\\Anaconda\\lib\\site-packages\\pandas\\core\\internals\\managers.py\u001b[0m in \u001b[0;36m_consolidate\u001b[1;34m(blocks)\u001b[0m\n\u001b[0;32m   1907\u001b[0m     \u001b[1;32mfor\u001b[0m \u001b[1;33m(\u001b[0m\u001b[0m_can_consolidate\u001b[0m\u001b[1;33m,\u001b[0m \u001b[0mdtype\u001b[0m\u001b[1;33m)\u001b[0m\u001b[1;33m,\u001b[0m \u001b[0mgroup_blocks\u001b[0m \u001b[1;32min\u001b[0m \u001b[0mgrouper\u001b[0m\u001b[1;33m:\u001b[0m\u001b[1;33m\u001b[0m\u001b[1;33m\u001b[0m\u001b[0m\n\u001b[0;32m   1908\u001b[0m         merged_blocks = _merge_blocks(\n\u001b[1;32m-> 1909\u001b[1;33m             \u001b[0mlist\u001b[0m\u001b[1;33m(\u001b[0m\u001b[0mgroup_blocks\u001b[0m\u001b[1;33m)\u001b[0m\u001b[1;33m,\u001b[0m \u001b[0mdtype\u001b[0m\u001b[1;33m=\u001b[0m\u001b[0mdtype\u001b[0m\u001b[1;33m,\u001b[0m \u001b[0mcan_consolidate\u001b[0m\u001b[1;33m=\u001b[0m\u001b[0m_can_consolidate\u001b[0m\u001b[1;33m\u001b[0m\u001b[1;33m\u001b[0m\u001b[0m\n\u001b[0m\u001b[0;32m   1910\u001b[0m         )\n\u001b[0;32m   1911\u001b[0m         \u001b[0mnew_blocks\u001b[0m \u001b[1;33m=\u001b[0m \u001b[0m_extend_blocks\u001b[0m\u001b[1;33m(\u001b[0m\u001b[0mmerged_blocks\u001b[0m\u001b[1;33m,\u001b[0m \u001b[0mnew_blocks\u001b[0m\u001b[1;33m)\u001b[0m\u001b[1;33m\u001b[0m\u001b[1;33m\u001b[0m\u001b[0m\n",
      "\u001b[1;32mD:\\Anaconda\\lib\\site-packages\\pandas\\core\\internals\\managers.py\u001b[0m in \u001b[0;36m_merge_blocks\u001b[1;34m(blocks, dtype, can_consolidate)\u001b[0m\n\u001b[0;32m   1929\u001b[0m         \u001b[1;31m# combination of those slices is a slice, too.\u001b[0m\u001b[1;33m\u001b[0m\u001b[1;33m\u001b[0m\u001b[1;33m\u001b[0m\u001b[0m\n\u001b[0;32m   1930\u001b[0m         \u001b[0mnew_mgr_locs\u001b[0m \u001b[1;33m=\u001b[0m \u001b[0mnp\u001b[0m\u001b[1;33m.\u001b[0m\u001b[0mconcatenate\u001b[0m\u001b[1;33m(\u001b[0m\u001b[1;33m[\u001b[0m\u001b[0mb\u001b[0m\u001b[1;33m.\u001b[0m\u001b[0mmgr_locs\u001b[0m\u001b[1;33m.\u001b[0m\u001b[0mas_array\u001b[0m \u001b[1;32mfor\u001b[0m \u001b[0mb\u001b[0m \u001b[1;32min\u001b[0m \u001b[0mblocks\u001b[0m\u001b[1;33m]\u001b[0m\u001b[1;33m)\u001b[0m\u001b[1;33m\u001b[0m\u001b[1;33m\u001b[0m\u001b[0m\n\u001b[1;32m-> 1931\u001b[1;33m         \u001b[0mnew_values\u001b[0m \u001b[1;33m=\u001b[0m \u001b[0mnp\u001b[0m\u001b[1;33m.\u001b[0m\u001b[0mvstack\u001b[0m\u001b[1;33m(\u001b[0m\u001b[1;33m[\u001b[0m\u001b[0mb\u001b[0m\u001b[1;33m.\u001b[0m\u001b[0mvalues\u001b[0m \u001b[1;32mfor\u001b[0m \u001b[0mb\u001b[0m \u001b[1;32min\u001b[0m \u001b[0mblocks\u001b[0m\u001b[1;33m]\u001b[0m\u001b[1;33m)\u001b[0m\u001b[1;33m\u001b[0m\u001b[1;33m\u001b[0m\u001b[0m\n\u001b[0m\u001b[0;32m   1932\u001b[0m \u001b[1;33m\u001b[0m\u001b[0m\n\u001b[0;32m   1933\u001b[0m         \u001b[0margsort\u001b[0m \u001b[1;33m=\u001b[0m \u001b[0mnp\u001b[0m\u001b[1;33m.\u001b[0m\u001b[0margsort\u001b[0m\u001b[1;33m(\u001b[0m\u001b[0mnew_mgr_locs\u001b[0m\u001b[1;33m)\u001b[0m\u001b[1;33m\u001b[0m\u001b[1;33m\u001b[0m\u001b[0m\n",
      "\u001b[1;32m<__array_function__ internals>\u001b[0m in \u001b[0;36mvstack\u001b[1;34m(*args, **kwargs)\u001b[0m\n",
      "\u001b[1;32mD:\\Anaconda\\lib\\site-packages\\numpy\\core\\shape_base.py\u001b[0m in \u001b[0;36mvstack\u001b[1;34m(tup)\u001b[0m\n\u001b[0;32m    281\u001b[0m     \u001b[1;32mif\u001b[0m \u001b[1;32mnot\u001b[0m \u001b[0misinstance\u001b[0m\u001b[1;33m(\u001b[0m\u001b[0marrs\u001b[0m\u001b[1;33m,\u001b[0m \u001b[0mlist\u001b[0m\u001b[1;33m)\u001b[0m\u001b[1;33m:\u001b[0m\u001b[1;33m\u001b[0m\u001b[1;33m\u001b[0m\u001b[0m\n\u001b[0;32m    282\u001b[0m         \u001b[0marrs\u001b[0m \u001b[1;33m=\u001b[0m \u001b[1;33m[\u001b[0m\u001b[0marrs\u001b[0m\u001b[1;33m]\u001b[0m\u001b[1;33m\u001b[0m\u001b[1;33m\u001b[0m\u001b[0m\n\u001b[1;32m--> 283\u001b[1;33m     \u001b[1;32mreturn\u001b[0m \u001b[0m_nx\u001b[0m\u001b[1;33m.\u001b[0m\u001b[0mconcatenate\u001b[0m\u001b[1;33m(\u001b[0m\u001b[0marrs\u001b[0m\u001b[1;33m,\u001b[0m \u001b[1;36m0\u001b[0m\u001b[1;33m)\u001b[0m\u001b[1;33m\u001b[0m\u001b[1;33m\u001b[0m\u001b[0m\n\u001b[0m\u001b[0;32m    284\u001b[0m \u001b[1;33m\u001b[0m\u001b[0m\n\u001b[0;32m    285\u001b[0m \u001b[1;33m\u001b[0m\u001b[0m\n",
      "\u001b[1;32m<__array_function__ internals>\u001b[0m in \u001b[0;36mconcatenate\u001b[1;34m(*args, **kwargs)\u001b[0m\n",
      "\u001b[1;31mMemoryError\u001b[0m: Unable to allocate 2.48 GiB for an array with shape (333, 1000000) and data type int64"
     ]
    }
   ],
   "source": [
    "# These two fields failed to run 'counts by entity' due to memory restraints\n",
    "# will be run separately below\n",
    "remained=['ssn_fulladdress','ssn_name_dob']\n",
    "begin=time.time()\n",
    "for entity in remained:\n",
    "    for field in new_att:\n",
    "        st=time.time()\n",
    "        if field==entity:\n",
    "            continue\n",
    "        else:\n",
    "            df_c=df1[['record','date',entity]]\n",
    "            df_d=df1[['check_record','check_date',entity,field]]            \n",
    "            temp=pd.merge(df_c,df_d,left_on=entity,right_on=entity)\n",
    "            df_c,df_d=0,0\n",
    "        for offset_t in [1,3,7,14,30,60]:\n",
    "            count_day_df=temp[(temp.check_date>=(temp.date-dt.timedelta(offset_t)))&(temp.record>=temp.check_record)]\n",
    "            col_name=f'{entity}_unique_count_for_{field}_{offset_t}'\n",
    "            mapper=count_day_df.groupby(['record'])[field].nunique()\n",
    "            vars[col_name]=vars.record.map(mapper)\n",
    "            if KeyError or MemoryError:\n",
    "                print(f'Not Enough Memory for {col_name}')\n",
    "                continue\n",
    "        if KeyError or MemoryError:\n",
    "            print(f'Not Enough Memory for {col_name}')\n",
    "            continue\n",
    "    if KeyError or MemoryError:\n",
    "        print(f'Not Enough Memory for {col_name}')\n",
    "        continue\n",
    "    print(f'Run time for entity {entity} in field {field} ---- {time.time()-st}s')\n",
    "print(f'Total Run Time: {(time.time()-begin)/60} min')"
   ]
  },
  {
   "cell_type": "markdown",
   "id": "abstract-revelation",
   "metadata": {},
   "source": [
    "## The code below does not run properly"
   ]
  },
  {
   "cell_type": "code",
   "execution_count": 8,
   "id": "latter-simple",
   "metadata": {},
   "outputs": [],
   "source": [
    "squared_df=pd.DataFrame()"
   ]
  },
  {
   "cell_type": "code",
   "execution_count": null,
   "id": "automated-terror",
   "metadata": {},
   "outputs": [],
   "source": [
    "for col in list(vars.columns):\n",
    "    if '_count_' in str(col):\n",
    "        squared_df[col]=vars[col]"
   ]
  },
  {
   "cell_type": "code",
   "execution_count": 71,
   "id": "applicable-offering",
   "metadata": {},
   "outputs": [
    {
     "data": {
      "text/plain": [
       "(1000000, 401)"
      ]
     },
     "execution_count": 71,
     "metadata": {},
     "output_type": "execute_result"
    }
   ],
   "source": [
    "# we ended up with 401 variables in the separate data frame\n",
    "squared_df.shape"
   ]
  },
  {
   "cell_type": "code",
   "execution_count": null,
   "id": "adequate-latvia",
   "metadata": {},
   "outputs": [],
   "source": [
    "for col in squared_df.columns:\n",
    "    squared_df[col] = squared_df[col].apply(lambda x: x*x)"
   ]
  },
  {
   "cell_type": "code",
   "execution_count": 69,
   "id": "canadian-display",
   "metadata": {},
   "outputs": [],
   "source": [
    "# new column names:\n",
    "new_name={}\n",
    "for col in list(squared_df.columns):\n",
    "    new_name[col]=col+'_squared'"
   ]
  },
  {
   "cell_type": "code",
   "execution_count": 70,
   "id": "adapted-representative",
   "metadata": {},
   "outputs": [],
   "source": [
    "# change names of columns\n",
    "squared_df.rename(columns = new_name, inplace = True)"
   ]
  },
  {
   "cell_type": "code",
   "execution_count": null,
   "id": "individual-rolling",
   "metadata": {},
   "outputs": [],
   "source": [
    "for col in squared_df.columns:\n",
    "    vars=vars.join(squared_df[col])"
   ]
  },
  {
   "cell_type": "code",
   "execution_count": null,
   "id": "peripheral-order",
   "metadata": {},
   "outputs": [],
   "source": []
  }
 ],
 "metadata": {
  "kernelspec": {
   "display_name": "Python 3",
   "language": "python",
   "name": "python3"
  },
  "language_info": {
   "codemirror_mode": {
    "name": "ipython",
    "version": 3
   },
   "file_extension": ".py",
   "mimetype": "text/x-python",
   "name": "python",
   "nbconvert_exporter": "python",
   "pygments_lexer": "ipython3",
   "version": "3.6.10"
  }
 },
 "nbformat": 4,
 "nbformat_minor": 5
}
