{
 "cells": [
  {
   "cell_type": "code",
   "execution_count": null,
   "id": "chronic-nowhere",
   "metadata": {},
   "outputs": [],
   "source": [
    "'''\n",
    "Running this script will \n",
    "1) pull signal data from API and append it to 'signal_historic_tb' of 'energy_sites_db' every 10 minute.\n",
    "'''"
   ]
  },
  {
   "cell_type": "code",
   "execution_count": 1,
   "id": "meaningful-inspection",
   "metadata": {},
   "outputs": [],
   "source": [
    "# import libraries\n",
    "import requests\n",
    "import pandas as pd\n",
    "import time\n",
    "import sys\n",
    "import gc\n",
    "from datetime import datetime\n",
    "import psycopg2 as ps\n",
    "import schedule"
   ]
  },
  {
   "cell_type": "code",
   "execution_count": 2,
   "id": "persistent-semester",
   "metadata": {},
   "outputs": [],
   "source": [
    "# API Key\n",
    "API_KEY='RUFTVEVSIEVHRyAjIDMuLi4KCnlvdXIgc2ljaw'\n",
    "#database credentials\n",
    "host_name = 'database-1.c8e37wn95xfp.us-west-1.rds.amazonaws.com'\n",
    "dbname = 'energy_sites_db'\n",
    "port = '5432'\n",
    "username = 'postgres' \n",
    "password = '4DBS*eK)QhWwH86'\n",
    "conn = None"
   ]
  },
  {
   "cell_type": "code",
   "execution_count": 3,
   "id": "temporal-offense",
   "metadata": {},
   "outputs": [],
   "source": [
    "# get list of sites\n",
    "def get_sites():\n",
    "    while True:\n",
    "        try: \n",
    "            url='https://te-data-test.herokuapp.com/api/sites?token='\n",
    "            sites_response=requests.get(url+API_KEY).json()\n",
    "            sites=sites_response['sites']\n",
    "            break\n",
    "        except:\n",
    "            print('Cannot access data. Will try again in 5 mins.')\n",
    "            # wait 300 seconds\n",
    "            time.sleep(300)\n",
    "    return sites"
   ]
  },
  {
   "cell_type": "code",
   "execution_count": 4,
   "id": "entire-latin",
   "metadata": {},
   "outputs": [],
   "source": [
    "# store signals in dataframe\n",
    "def get_signals(sites):\n",
    "    signals_url='https://te-data-test.herokuapp.com/api/signals'\n",
    "    df=pd.DataFrame(columns=['site','signal_time','SITE_SM_batteryInstPower','SITE_SM_siteInstPower','SITE_SM_solarInstPower'])\n",
    "    for s in sites:\n",
    "        while True:\n",
    "            try:\n",
    "                signals_response=requests.get(signals_url, params = {\"token\": API_KEY,\n",
    "                                                                    \"site\":s}).json()\n",
    "                try:\n",
    "                    SITE_SM_batteryInstPower=signals_response['signals']['SITE_SM_batteryInstPower']\n",
    "                except: \n",
    "                    SITE_SM_batteryInstPower=0\n",
    "                try:\n",
    "                    SITE_SM_siteInstPower=signals_response['signals']['SITE_SM_siteInstPower']\n",
    "                except: \n",
    "                    SITE_SM_siteInstPower=0\n",
    "                try:\n",
    "                    SITE_SM_solarInstPower=signals_response['signals']['SITE_SM_solarInstPower']\n",
    "                except: \n",
    "                    SITE_SM_solarInstPower=0\n",
    "                try:\n",
    "                    signal_time=signals_response['timestamp']\n",
    "                except: \n",
    "                    signal_time=0    \n",
    "\n",
    "                df=df.append({'site':s,'signal_time':signal_time,\n",
    "                              'SITE_SM_batteryInstPower': SITE_SM_batteryInstPower,\n",
    "                              'SITE_SM_siteInstPower':SITE_SM_siteInstPower,\n",
    "                              'SITE_SM_solarInstPower':SITE_SM_solarInstPower},ignore_index=True)\n",
    "                break\n",
    "            except:\n",
    "                print('Cannot access data. Will try again in 5 mins.')\n",
    "                # wait 300 seconds\n",
    "                time.sleep(300)\n",
    "    return df"
   ]
  },
  {
   "cell_type": "code",
   "execution_count": 5,
   "id": "ranking-understanding",
   "metadata": {},
   "outputs": [],
   "source": [
    "# change timestamp to datetime\n",
    "# fill nan with 0\n",
    "def clean_df(df):\n",
    "    df['signal_time'] = pd.to_datetime(df['signal_time'])\n",
    "    df=df.fillna(0)\n",
    "    return df"
   ]
  },
  {
   "cell_type": "code",
   "execution_count": 20,
   "id": "spare-memorabilia",
   "metadata": {},
   "outputs": [],
   "source": [
    "# connect to database\n",
    "def connect_to_db(host_name, dbname, port, username, password):\n",
    "    while True:\n",
    "        try:\n",
    "            conn = ps.connect(host=host_name, database=dbname, user=username, password=password, port=port)\n",
    "            break\n",
    "        except ps.OperationalError as e:\n",
    "            print(e)\n",
    "            print('Cannot access data. Will try again in 5 mins.')\n",
    "            time.sleep(300)      \n",
    "        else:\n",
    "            print('Connected!')\n",
    "    return conn"
   ]
  },
  {
   "cell_type": "code",
   "execution_count": 8,
   "id": "running-verse",
   "metadata": {},
   "outputs": [],
   "source": [
    "# create signal_historic_tb table \n",
    "def create_table(curr):\n",
    "    create_table_command = (\"\"\"CREATE TABLE IF NOT EXISTS signal_historic_tb (\n",
    "                    site VARCHAR(255),\n",
    "                    signal_time TIMESTAMP WITHOUT TIME ZONE NOT NULL,\n",
    "                    SITE_SM_batteryInstPower FLOAT NOT NULL,\n",
    "                    SITE_SM_siteInstPower  FLOAT NOT NULL,\n",
    "                    SITE_SM_solarInstPower FLOAT NOT NULL,\n",
    "                    PRIMARY KEY (site,signal_time)\n",
    "            )\"\"\")\n",
    "\n",
    "    curr.execute(create_table_command)\n",
    "    "
   ]
  },
  {
   "cell_type": "code",
   "execution_count": 9,
   "id": "english-handling",
   "metadata": {},
   "outputs": [],
   "source": [
    "# write insert command\n",
    "def insert_into_table(curr, site, signal_time, SITE_SM_batteryInstPower, SITE_SM_siteInstPower, SITE_SM_solarInstPower):\n",
    "    insert_query = (\"\"\"INSERT INTO signal_historic_tb (site, signal_time, SITE_SM_batteryInstPower, SITE_SM_siteInstPower, SITE_SM_solarInstPower)\n",
    "    VALUES(%s,%s,%s,%s,%s);\"\"\")\n",
    "    row_to_insert = (site, signal_time, SITE_SM_batteryInstPower, SITE_SM_siteInstPower, SITE_SM_solarInstPower)\n",
    "    curr.execute(insert_query, row_to_insert)"
   ]
  },
  {
   "cell_type": "code",
   "execution_count": 10,
   "id": "accredited-beast",
   "metadata": {},
   "outputs": [],
   "source": [
    "# insert 1 at a time for performance\n",
    "def append_from_df_to_db(curr,df):\n",
    "    for i, row in df.iterrows():\n",
    "        insert_into_table(curr, row['site'],row['signal_time'],row['SITE_SM_batteryInstPower'],row['SITE_SM_siteInstPower'],row['SITE_SM_solarInstPower'])\n"
   ]
  },
  {
   "cell_type": "code",
   "execution_count": 11,
   "id": "restricted-meaning",
   "metadata": {},
   "outputs": [],
   "source": [
    "def main():\n",
    "    start_time=time.time()\n",
    "    sites=get_sites()\n",
    "    df=get_signals(sites)\n",
    "    df=clean_df(df)\n",
    "    conn = connect_to_db(host_name, dbname, port, username, password)\n",
    "    curr = conn.cursor()\n",
    "    create_table(curr)\n",
    "    conn.commit()\n",
    "    append_from_df_to_db(curr,df)\n",
    "    conn.commit()\n",
    "    end_time=time.time()\n",
    "    duration=end_time-start_time\n",
    "    print(f'signal_historic_tb is updated at {datetime.now()}. The program took {duration}s.')\n",
    "    "
   ]
  },
  {
   "cell_type": "code",
   "execution_count": 208,
   "id": "square-davis",
   "metadata": {},
   "outputs": [],
   "source": [
    "# executes main every 10 minute while running the script\n",
    "if __name__=='__main__':\n",
    "    schedule.every(10).minutes.do(main)\n",
    "    while True:\n",
    "        schedule.run_pending()\n",
    "        time.sleep(1)"
   ]
  },
  {
   "cell_type": "code",
   "execution_count": null,
   "id": "heavy-shaft",
   "metadata": {},
   "outputs": [],
   "source": []
  },
  {
   "cell_type": "code",
   "execution_count": null,
   "id": "after-concrete",
   "metadata": {},
   "outputs": [],
   "source": []
  }
 ],
 "metadata": {
  "kernelspec": {
   "display_name": "Python 3",
   "language": "python",
   "name": "python3"
  },
  "language_info": {
   "codemirror_mode": {
    "name": "ipython",
    "version": 3
   },
   "file_extension": ".py",
   "mimetype": "text/x-python",
   "name": "python",
   "nbconvert_exporter": "python",
   "pygments_lexer": "ipython3",
   "version": "3.6.10"
  }
 },
 "nbformat": 4,
 "nbformat_minor": 5
}
